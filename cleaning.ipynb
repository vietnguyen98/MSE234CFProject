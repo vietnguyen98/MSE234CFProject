{
 "cells": [
  {
   "cell_type": "markdown",
   "metadata": {},
   "source": [
    "# MS&E 234 Project\n",
    "\n",
    "### Data cleaning"
   ]
  },
  {
   "cell_type": "code",
   "execution_count": 1,
   "metadata": {},
   "outputs": [],
   "source": [
    "import pandas as pd\n",
    "import numpy as np\n",
    "import re\n",
    "from random import sample\n",
    "import itertools\n",
    "from collections import defaultdict\n",
    "from tqdm.notebook import tqdm\n",
    "import pickle"
   ]
  },
  {
   "cell_type": "markdown",
   "metadata": {},
   "source": [
    "### Load data"
   ]
  },
  {
   "cell_type": "code",
   "execution_count": 2,
   "metadata": {},
   "outputs": [
    {
     "data": {
      "text/html": [
       "<div>\n",
       "<style scoped>\n",
       "    .dataframe tbody tr th:only-of-type {\n",
       "        vertical-align: middle;\n",
       "    }\n",
       "\n",
       "    .dataframe tbody tr th {\n",
       "        vertical-align: top;\n",
       "    }\n",
       "\n",
       "    .dataframe thead th {\n",
       "        text-align: right;\n",
       "    }\n",
       "</style>\n",
       "<table border=\"1\" class=\"dataframe\">\n",
       "  <thead>\n",
       "    <tr style=\"text-align: right;\">\n",
       "      <th></th>\n",
       "      <th>CustomerID</th>\n",
       "      <th>Rating</th>\n",
       "      <th>Date</th>\n",
       "    </tr>\n",
       "  </thead>\n",
       "  <tbody>\n",
       "    <tr>\n",
       "      <td>0</td>\n",
       "      <td>1:</td>\n",
       "      <td>NaN</td>\n",
       "      <td>NaN</td>\n",
       "    </tr>\n",
       "    <tr>\n",
       "      <td>1</td>\n",
       "      <td>1488844</td>\n",
       "      <td>3.0</td>\n",
       "      <td>2005-09-06</td>\n",
       "    </tr>\n",
       "    <tr>\n",
       "      <td>2</td>\n",
       "      <td>822109</td>\n",
       "      <td>5.0</td>\n",
       "      <td>2005-05-13</td>\n",
       "    </tr>\n",
       "    <tr>\n",
       "      <td>3</td>\n",
       "      <td>885013</td>\n",
       "      <td>4.0</td>\n",
       "      <td>2005-10-19</td>\n",
       "    </tr>\n",
       "    <tr>\n",
       "      <td>4</td>\n",
       "      <td>30878</td>\n",
       "      <td>4.0</td>\n",
       "      <td>2005-12-26</td>\n",
       "    </tr>\n",
       "    <tr>\n",
       "      <td>...</td>\n",
       "      <td>...</td>\n",
       "      <td>...</td>\n",
       "      <td>...</td>\n",
       "    </tr>\n",
       "    <tr>\n",
       "      <td>100498272</td>\n",
       "      <td>1790158</td>\n",
       "      <td>4.0</td>\n",
       "      <td>2005-11-01</td>\n",
       "    </tr>\n",
       "    <tr>\n",
       "      <td>100498273</td>\n",
       "      <td>1608708</td>\n",
       "      <td>3.0</td>\n",
       "      <td>2005-07-19</td>\n",
       "    </tr>\n",
       "    <tr>\n",
       "      <td>100498274</td>\n",
       "      <td>234275</td>\n",
       "      <td>1.0</td>\n",
       "      <td>2004-08-07</td>\n",
       "    </tr>\n",
       "    <tr>\n",
       "      <td>100498275</td>\n",
       "      <td>255278</td>\n",
       "      <td>4.0</td>\n",
       "      <td>2004-05-28</td>\n",
       "    </tr>\n",
       "    <tr>\n",
       "      <td>100498276</td>\n",
       "      <td>453585</td>\n",
       "      <td>2.0</td>\n",
       "      <td>2005-03-10</td>\n",
       "    </tr>\n",
       "  </tbody>\n",
       "</table>\n",
       "<p>100498277 rows × 3 columns</p>\n",
       "</div>"
      ],
      "text/plain": [
       "          CustomerID  Rating        Date\n",
       "0                 1:     NaN         NaN\n",
       "1            1488844     3.0  2005-09-06\n",
       "2             822109     5.0  2005-05-13\n",
       "3             885013     4.0  2005-10-19\n",
       "4              30878     4.0  2005-12-26\n",
       "...              ...     ...         ...\n",
       "100498272    1790158     4.0  2005-11-01\n",
       "100498273    1608708     3.0  2005-07-19\n",
       "100498274     234275     1.0  2004-08-07\n",
       "100498275     255278     4.0  2004-05-28\n",
       "100498276     453585     2.0  2005-03-10\n",
       "\n",
       "[100498277 rows x 3 columns]"
      ]
     },
     "execution_count": 2,
     "metadata": {},
     "output_type": "execute_result"
    }
   ],
   "source": [
    "df_raw = pd.DataFrame()\n",
    "for i in range(1, 4+1):\n",
    "    df_raw = pd.concat([df_raw, pd.read_csv(f'../netflix-prize-kaggle-data/combined_data_{i}.txt',\n",
    "        header=None,\n",
    "        names=['CustomerID', 'Rating', 'Date'])])\n",
    "df_raw = df_raw.reset_index(drop = True)\n",
    "df_raw"
   ]
  },
  {
   "cell_type": "markdown",
   "metadata": {},
   "source": [
    "### Subset data as in paper (Calandrino 2011)"
   ]
  },
  {
   "cell_type": "code",
   "execution_count": 3,
   "metadata": {},
   "outputs": [],
   "source": [
    "def buildDataset(df, userList, train):\n",
    "    print(\"Entire dataset: 100498277 ratings; 480189 users\")\n",
    "    # Sample 10000 users\n",
    "    df = df[df['CustomerID'].isin(userList)]\n",
    "    print(f\"Subset of 10000 users: {df.shape[0]} ratings; {df['CustomerID'].nunique()} users\")\n",
    "\n",
    "    if train:\n",
    "        # Assume each user makes a random 50% of transactions public\n",
    "        idxs = df[['CustomerID']].reset_index().groupby('CustomerID').agg({'index':lambda x: list(x)}).to_numpy().tolist()\n",
    "        drop_idxs = []\n",
    "        for i in range(len(idxs)):\n",
    "            drop_idxs.append(sample(idxs[i][0], len(idxs[i][0]) // 2))\n",
    "        drop_idxs = list(itertools.chain(*drop_idxs))\n",
    "        df = df.drop(drop_idxs)\n",
    "        print(f'After making 50% private: {df.shape[0]} ratings; {df.CustomerID.nunique()} users')\n",
    "\n",
    "        # Only consider users with at least 100 public transactions\n",
    "        df = df[df['CustomerID'].isin(df['CustomerID'].value_counts()[df['CustomerID'].value_counts() > 100].index)]\n",
    "        print(f'Filter for users with >= 100 public transactions: {df.shape[0]} ratings; {df.CustomerID.nunique()} users')\n",
    "\n",
    "    # Subset the data to analyze only ratings from July 2005\n",
    "    df = df[df['Date'].apply(lambda x: type(x) == str and bool(re.match(r'2005-07.*', x)))]\n",
    "    print(f'Only July 2005: {df.shape[0]} ratings; {df[\"CustomerID\"].nunique()} users')\n",
    "          \n",
    "    return df"
   ]
  },
  {
   "cell_type": "code",
   "execution_count": 4,
   "metadata": {},
   "outputs": [],
   "source": [
    "# extract movie ID's from raw data, combine these with df\n",
    "# The data files follow the following format:\n",
    "# Movie ID:\n",
    "# CustomerID, Rating, Date\n",
    "# ...\n",
    "\n",
    "def addMovieInfo(df, movieDF):\n",
    "    movieRows = np.array(movieDF.index)\n",
    "    movieIDs = []\n",
    "    currIdx = 0\n",
    "    for row in df.itertuples(index = True, name = 'Pandas'):\n",
    "        currRow = row.Index\n",
    "        while currIdx < len(movieRows) - 1:\n",
    "            nextMovieRow = movieRows[currIdx + 1]\n",
    "            if currRow > nextMovieRow:\n",
    "                currIdx += 1\n",
    "            else:\n",
    "                break\n",
    "        movieIDs.append(currIdx)\n",
    "    df[\"MovieID\"] = movieIDs\n",
    "    df['Day'] = pd.DatetimeIndex(df['Date']).day\n",
    "    return df"
   ]
  },
  {
   "cell_type": "code",
   "execution_count": 5,
   "metadata": {},
   "outputs": [],
   "source": [
    "# input: 2 sets x, y\n",
    "# output: for binary vectors x and y: cosine similarity = |x and y| / sqrt(|x||y|)\n",
    "def getCosSim(x, y):\n",
    "    return len(x.intersection(y)) / np.sqrt(len(x) * len(y))"
   ]
  },
  {
   "cell_type": "code",
   "execution_count": 6,
   "metadata": {},
   "outputs": [],
   "source": [
    "# input: sparse binary adjList\n",
    "# output: dict of the 50 most similar items and scores, in format: dict[movieID] => ([(items, scores)])\n",
    "def getSimListDaily(adjList):\n",
    "    simList = {}\n",
    "    for key1 in adjList.keys():\n",
    "        cosSims = []\n",
    "        for key2 in adjList.keys():\n",
    "            if key1 == key2:\n",
    "                continue\n",
    "            cosSim = getCosSim(adjList[key1], adjList[key2])\n",
    "            cosSims.append((key2, cosSim))\n",
    "        simList[key1] = sorted(cosSims, key = lambda x: (-x[1], x[0]))[:50]\n",
    "    return simList"
   ]
  },
  {
   "cell_type": "code",
   "execution_count": 7,
   "metadata": {},
   "outputs": [],
   "source": [
    "# input: dataframe of customerIDs, Ratings, Day of Month, and MovieIDs\n",
    "# input dataframe should contain both public and private data, as the recc system uses all available information\n",
    "# output: list of 50 related movies and similarity ratings per day\n",
    "# on each consecutive day, more data is used by the recc system\n",
    "# uses cosine similarity on a binary matrix\n",
    "def getSimListMonthly(df):\n",
    "    # store binary matrix in sparse adjacency list format\n",
    "    # adjList[movieID] => set of customerIDs\n",
    "    adjList = defaultdict(set)\n",
    "    \n",
    "    simLists = []\n",
    "    \n",
    "    for day in tqdm(sorted(df[\"Day\"].unique())):\n",
    "        # add new movies from today to adjList\n",
    "        currDF = df[df[\"Day\"] == day]\n",
    "        for row in currDF.itertuples(index = True, name = 'Pandas'):\n",
    "            adjList[row.MovieID].add(row.CustomerID)\n",
    "        \n",
    "        # compute similarity scores\n",
    "        currSimList = getSimListDaily(adjList)\n",
    "        simLists.append(currSimList)\n",
    "    return simLists"
   ]
  },
  {
   "cell_type": "code",
   "execution_count": 8,
   "metadata": {},
   "outputs": [
    {
     "name": "stdout",
     "output_type": "stream",
     "text": [
      "Entire dataset: 100498277 ratings; 480189 users\n",
      "Subset of 10000 users: 2086064 ratings; 10000 users\n",
      "After making 50% private: 1045448 ratings; 10000 users\n",
      "Filter for users with >= 100 public transactions: 806422 ratings; 3159 users\n",
      "Only July 2005: 35238 ratings; 1999 users\n",
      "Entire dataset: 100498277 ratings; 480189 users\n",
      "Subset of 10000 users: 2086064 ratings; 10000 users\n",
      "Only July 2005: 100667 ratings; 4439 users\n"
     ]
    }
   ],
   "source": [
    "movieDF = df_raw[df_raw['Rating'].isnull()]\n",
    "userList = sample(df_raw.dropna()['CustomerID'].unique().tolist(), 10000)\n",
    "dfTrain = buildDataset(df_raw, userList, train = True)\n",
    "dfTrain = addMovieInfo(dfTrain, movieDF)\n",
    "dfTest = buildDataset(df_raw, userList, train = False)\n",
    "dfTest = addMovieInfo(dfTest, movieDF)\n",
    "dfTrain.to_csv(\"train/Trial1.csv\")\n",
    "dfTest.to_csv(\"test/Trial1.csv\")"
   ]
  },
  {
   "cell_type": "code",
   "execution_count": 9,
   "metadata": {},
   "outputs": [
    {
     "data": {
      "application/vnd.jupyter.widget-view+json": {
       "model_id": "4cd1fb8cccbf4e63a0c844088250280f",
       "version_major": 2,
       "version_minor": 0
      },
      "text/plain": [
       "HBox(children=(IntProgress(value=0, max=31), HTML(value='')))"
      ]
     },
     "metadata": {},
     "output_type": "display_data"
    },
    {
     "name": "stdout",
     "output_type": "stream",
     "text": [
      "\n"
     ]
    }
   ],
   "source": [
    "simLists = getSimListMonthly(dfTest)"
   ]
  },
  {
   "cell_type": "code",
   "execution_count": 10,
   "metadata": {},
   "outputs": [],
   "source": [
    "fileName = 'simLists/Trial1.pkl'\n",
    "with open(fileName, 'wb') as handle:\n",
    "    pickle.dump(simLists, handle)"
   ]
  },
  {
   "cell_type": "code",
   "execution_count": 11,
   "metadata": {},
   "outputs": [],
   "source": [
    "with open(fileName, 'rb') as handle:\n",
    "    simLists = pickle.load(handle)"
   ]
  },
  {
   "cell_type": "code",
   "execution_count": 99,
   "metadata": {},
   "outputs": [],
   "source": [
    "dfTrain = pd.read_csv(\"train/Trial1.csv\", index_col = 0)\n",
    "dfTest = pd.read_csv(\"test/Trial1.csv\", index_col = 0)"
   ]
  },
  {
   "cell_type": "code",
   "execution_count": 151,
   "metadata": {},
   "outputs": [
    {
     "name": "stdout",
     "output_type": "stream",
     "text": [
      "number of (user, date) pairs: 14732 \n",
      "(user, date) pairs with <= 5 transactions: 12233\n",
      "filter by users with >= 100 transactions (in the whole dataset): 7121\n"
     ]
    }
   ],
   "source": [
    "countDF = dfTest.groupby([\"CustomerID\", \"Day\"]).count()\n",
    "print(f\"number of (user, date) pairs: {countDF.shape[0]} \")\n",
    "countDF = countDF[countDF[\"Rating\"] <= 5]\n",
    "print(f\"(user, date) pairs with <= 5 transactions: {countDF.shape[0]}\")\n",
    "validUsers = set(dfTrain[\"CustomerID\"].unique())\n",
    "countDF = countDF.reset_index()\n",
    "countDF = countDF[countDF[\"CustomerID\"].isin(validUsers)]\n",
    "print(f\"filter by users with >= 100 transactions (in the whole dataset): {countDF.shape[0]}\")\n",
    "userDayPairs = countDF[[\"CustomerID\", \"Day\"]].to_numpy()\n",
    "\n",
    "# reset countDF to contain full count info\n",
    "countDF = dfTest.groupby([\"CustomerID\", \"Day\"]).count()\n",
    "countDF = countDF.reset_index()"
   ]
  },
  {
   "cell_type": "code",
   "execution_count": 152,
   "metadata": {},
   "outputs": [],
   "source": [
    "user, day = userDayPairs[0]"
   ]
  },
  {
   "cell_type": "code",
   "execution_count": 153,
   "metadata": {},
   "outputs": [
    {
     "data": {
      "text/html": [
       "<div>\n",
       "<style scoped>\n",
       "    .dataframe tbody tr th:only-of-type {\n",
       "        vertical-align: middle;\n",
       "    }\n",
       "\n",
       "    .dataframe tbody tr th {\n",
       "        vertical-align: top;\n",
       "    }\n",
       "\n",
       "    .dataframe thead th {\n",
       "        text-align: right;\n",
       "    }\n",
       "</style>\n",
       "<table border=\"1\" class=\"dataframe\">\n",
       "  <thead>\n",
       "    <tr style=\"text-align: right;\">\n",
       "      <th></th>\n",
       "      <th>CustomerID</th>\n",
       "      <th>Rating</th>\n",
       "      <th>Date</th>\n",
       "      <th>MovieID</th>\n",
       "      <th>Day</th>\n",
       "    </tr>\n",
       "  </thead>\n",
       "  <tbody>\n",
       "    <tr>\n",
       "      <td>228</td>\n",
       "      <td>1727869</td>\n",
       "      <td>5.0</td>\n",
       "      <td>2005-07-11</td>\n",
       "      <td>0</td>\n",
       "      <td>11</td>\n",
       "    </tr>\n",
       "    <tr>\n",
       "      <td>413</td>\n",
       "      <td>448902</td>\n",
       "      <td>5.0</td>\n",
       "      <td>2005-07-20</td>\n",
       "      <td>0</td>\n",
       "      <td>20</td>\n",
       "    </tr>\n",
       "    <tr>\n",
       "      <td>2170</td>\n",
       "      <td>217658</td>\n",
       "      <td>4.0</td>\n",
       "      <td>2005-07-26</td>\n",
       "      <td>2</td>\n",
       "      <td>26</td>\n",
       "    </tr>\n",
       "    <tr>\n",
       "      <td>5358</td>\n",
       "      <td>2116703</td>\n",
       "      <td>5.0</td>\n",
       "      <td>2005-07-06</td>\n",
       "      <td>7</td>\n",
       "      <td>6</td>\n",
       "    </tr>\n",
       "    <tr>\n",
       "      <td>7561</td>\n",
       "      <td>1871482</td>\n",
       "      <td>5.0</td>\n",
       "      <td>2005-07-22</td>\n",
       "      <td>7</td>\n",
       "      <td>22</td>\n",
       "    </tr>\n",
       "    <tr>\n",
       "      <td>...</td>\n",
       "      <td>...</td>\n",
       "      <td>...</td>\n",
       "      <td>...</td>\n",
       "      <td>...</td>\n",
       "      <td>...</td>\n",
       "    </tr>\n",
       "    <tr>\n",
       "      <td>100468158</td>\n",
       "      <td>2320669</td>\n",
       "      <td>5.0</td>\n",
       "      <td>2005-07-07</td>\n",
       "      <td>17763</td>\n",
       "      <td>7</td>\n",
       "    </tr>\n",
       "    <tr>\n",
       "      <td>100487063</td>\n",
       "      <td>1838742</td>\n",
       "      <td>4.0</td>\n",
       "      <td>2005-07-10</td>\n",
       "      <td>17763</td>\n",
       "      <td>10</td>\n",
       "    </tr>\n",
       "    <tr>\n",
       "      <td>100492757</td>\n",
       "      <td>2260860</td>\n",
       "      <td>3.0</td>\n",
       "      <td>2005-07-14</td>\n",
       "      <td>17768</td>\n",
       "      <td>14</td>\n",
       "    </tr>\n",
       "    <tr>\n",
       "      <td>100492792</td>\n",
       "      <td>814259</td>\n",
       "      <td>4.0</td>\n",
       "      <td>2005-07-18</td>\n",
       "      <td>17768</td>\n",
       "      <td>18</td>\n",
       "    </tr>\n",
       "    <tr>\n",
       "      <td>100497574</td>\n",
       "      <td>1295471</td>\n",
       "      <td>1.0</td>\n",
       "      <td>2005-07-20</td>\n",
       "      <td>17769</td>\n",
       "      <td>20</td>\n",
       "    </tr>\n",
       "  </tbody>\n",
       "</table>\n",
       "<p>35238 rows × 5 columns</p>\n",
       "</div>"
      ],
      "text/plain": [
       "           CustomerID  Rating        Date  MovieID  Day\n",
       "228           1727869     5.0  2005-07-11        0   11\n",
       "413            448902     5.0  2005-07-20        0   20\n",
       "2170           217658     4.0  2005-07-26        2   26\n",
       "5358          2116703     5.0  2005-07-06        7    6\n",
       "7561          1871482     5.0  2005-07-22        7   22\n",
       "...               ...     ...         ...      ...  ...\n",
       "100468158     2320669     5.0  2005-07-07    17763    7\n",
       "100487063     1838742     4.0  2005-07-10    17763   10\n",
       "100492757     2260860     3.0  2005-07-14    17768   14\n",
       "100492792      814259     4.0  2005-07-18    17768   18\n",
       "100497574     1295471     1.0  2005-07-20    17769   20\n",
       "\n",
       "[35238 rows x 5 columns]"
      ]
     },
     "execution_count": 153,
     "metadata": {},
     "output_type": "execute_result"
    }
   ],
   "source": [
    "dfTrain"
   ]
  },
  {
   "cell_type": "code",
   "execution_count": 154,
   "metadata": {},
   "outputs": [
    {
     "data": {
      "text/html": [
       "<div>\n",
       "<style scoped>\n",
       "    .dataframe tbody tr th:only-of-type {\n",
       "        vertical-align: middle;\n",
       "    }\n",
       "\n",
       "    .dataframe tbody tr th {\n",
       "        vertical-align: top;\n",
       "    }\n",
       "\n",
       "    .dataframe thead th {\n",
       "        text-align: right;\n",
       "    }\n",
       "</style>\n",
       "<table border=\"1\" class=\"dataframe\">\n",
       "  <thead>\n",
       "    <tr style=\"text-align: right;\">\n",
       "      <th></th>\n",
       "      <th>CustomerID</th>\n",
       "      <th>Rating</th>\n",
       "      <th>Date</th>\n",
       "      <th>MovieID</th>\n",
       "      <th>Day</th>\n",
       "    </tr>\n",
       "  </thead>\n",
       "  <tbody>\n",
       "    <tr>\n",
       "      <td>5264117</td>\n",
       "      <td>2555</td>\n",
       "      <td>4.0</td>\n",
       "      <td>2005-07-11</td>\n",
       "      <td>1072</td>\n",
       "      <td>11</td>\n",
       "    </tr>\n",
       "    <tr>\n",
       "      <td>8601161</td>\n",
       "      <td>2555</td>\n",
       "      <td>3.0</td>\n",
       "      <td>2005-07-18</td>\n",
       "      <td>1718</td>\n",
       "      <td>18</td>\n",
       "    </tr>\n",
       "    <tr>\n",
       "      <td>64659221</td>\n",
       "      <td>2555</td>\n",
       "      <td>5.0</td>\n",
       "      <td>2005-07-25</td>\n",
       "      <td>11811</td>\n",
       "      <td>25</td>\n",
       "    </tr>\n",
       "    <tr>\n",
       "      <td>68169137</td>\n",
       "      <td>2555</td>\n",
       "      <td>1.0</td>\n",
       "      <td>2005-07-18</td>\n",
       "      <td>12358</td>\n",
       "      <td>18</td>\n",
       "    </tr>\n",
       "    <tr>\n",
       "      <td>90445360</td>\n",
       "      <td>2555</td>\n",
       "      <td>3.0</td>\n",
       "      <td>2005-07-18</td>\n",
       "      <td>16112</td>\n",
       "      <td>18</td>\n",
       "    </tr>\n",
       "  </tbody>\n",
       "</table>\n",
       "</div>"
      ],
      "text/plain": [
       "          CustomerID  Rating        Date  MovieID  Day\n",
       "5264117         2555     4.0  2005-07-11     1072   11\n",
       "8601161         2555     3.0  2005-07-18     1718   18\n",
       "64659221        2555     5.0  2005-07-25    11811   25\n",
       "68169137        2555     1.0  2005-07-18    12358   18\n",
       "90445360        2555     3.0  2005-07-18    16112   18"
      ]
     },
     "execution_count": 154,
     "metadata": {},
     "output_type": "execute_result"
    }
   ],
   "source": [
    "dfTrain[dfTrain[\"CustomerID\"] == user]"
   ]
  },
  {
   "cell_type": "code",
   "execution_count": 155,
   "metadata": {},
   "outputs": [
    {
     "data": {
      "text/html": [
       "<div>\n",
       "<style scoped>\n",
       "    .dataframe tbody tr th:only-of-type {\n",
       "        vertical-align: middle;\n",
       "    }\n",
       "\n",
       "    .dataframe tbody tr th {\n",
       "        vertical-align: top;\n",
       "    }\n",
       "\n",
       "    .dataframe thead th {\n",
       "        text-align: right;\n",
       "    }\n",
       "</style>\n",
       "<table border=\"1\" class=\"dataframe\">\n",
       "  <thead>\n",
       "    <tr style=\"text-align: right;\">\n",
       "      <th></th>\n",
       "      <th>CustomerID</th>\n",
       "      <th>Day</th>\n",
       "      <th>Rating</th>\n",
       "      <th>Date</th>\n",
       "      <th>MovieID</th>\n",
       "    </tr>\n",
       "  </thead>\n",
       "  <tbody>\n",
       "    <tr>\n",
       "      <td>9</td>\n",
       "      <td>2555</td>\n",
       "      <td>7</td>\n",
       "      <td>1</td>\n",
       "      <td>1</td>\n",
       "      <td>1</td>\n",
       "    </tr>\n",
       "    <tr>\n",
       "      <td>10</td>\n",
       "      <td>2555</td>\n",
       "      <td>11</td>\n",
       "      <td>2</td>\n",
       "      <td>2</td>\n",
       "      <td>2</td>\n",
       "    </tr>\n",
       "    <tr>\n",
       "      <td>11</td>\n",
       "      <td>2555</td>\n",
       "      <td>18</td>\n",
       "      <td>7</td>\n",
       "      <td>7</td>\n",
       "      <td>7</td>\n",
       "    </tr>\n",
       "    <tr>\n",
       "      <td>12</td>\n",
       "      <td>2555</td>\n",
       "      <td>25</td>\n",
       "      <td>2</td>\n",
       "      <td>2</td>\n",
       "      <td>2</td>\n",
       "    </tr>\n",
       "    <tr>\n",
       "      <td>13</td>\n",
       "      <td>2555</td>\n",
       "      <td>26</td>\n",
       "      <td>1</td>\n",
       "      <td>1</td>\n",
       "      <td>1</td>\n",
       "    </tr>\n",
       "    <tr>\n",
       "      <td>14</td>\n",
       "      <td>2555</td>\n",
       "      <td>29</td>\n",
       "      <td>1</td>\n",
       "      <td>1</td>\n",
       "      <td>1</td>\n",
       "    </tr>\n",
       "  </tbody>\n",
       "</table>\n",
       "</div>"
      ],
      "text/plain": [
       "    CustomerID  Day  Rating  Date  MovieID\n",
       "9         2555    7       1     1        1\n",
       "10        2555   11       2     2        2\n",
       "11        2555   18       7     7        7\n",
       "12        2555   25       2     2        2\n",
       "13        2555   26       1     1        1\n",
       "14        2555   29       1     1        1"
      ]
     },
     "execution_count": 155,
     "metadata": {},
     "output_type": "execute_result"
    }
   ],
   "source": [
    "countDF[countDF[\"CustomerID\"] == 2555]"
   ]
  },
  {
   "cell_type": "code",
   "execution_count": 191,
   "metadata": {},
   "outputs": [],
   "source": [
    "def getScore(searchID, simList):\n",
    "    for movieID, score in simList:\n",
    "        if searchID == movieID:\n",
    "            return score\n",
    "    return np.nan"
   ]
  },
  {
   "cell_type": "code",
   "execution_count": 150,
   "metadata": {},
   "outputs": [
    {
     "data": {
      "text/plain": [
       "True"
      ]
     },
     "execution_count": 150,
     "metadata": {},
     "output_type": "execute_result"
    }
   ],
   "source": [
    "currSimList = simLists[18][1072]\n",
    "11811 in [movieID for (movieID, score) in currSimList]"
   ]
  },
  {
   "cell_type": "code",
   "execution_count": 167,
   "metadata": {},
   "outputs": [
    {
     "data": {
      "text/plain": [
       "0.20100359758437733"
      ]
     },
     "execution_count": 167,
     "metadata": {},
     "output_type": "execute_result"
    }
   ],
   "source": [
    "getScore(11811, simLists[23][1072])"
   ]
  },
  {
   "cell_type": "code",
   "execution_count": 168,
   "metadata": {},
   "outputs": [
    {
     "data": {
      "text/plain": [
       "0.20100359758437733"
      ]
     },
     "execution_count": 168,
     "metadata": {},
     "output_type": "execute_result"
    }
   ],
   "source": [
    "getScore(11811, simLists[23][1072])"
   ]
  },
  {
   "cell_type": "code",
   "execution_count": 169,
   "metadata": {},
   "outputs": [
    {
     "data": {
      "text/plain": [
       "0.22326211577552735"
      ]
     },
     "execution_count": 169,
     "metadata": {},
     "output_type": "execute_result"
    }
   ],
   "source": [
    "getScore(11811, simLists[24][1072])"
   ]
  },
  {
   "cell_type": "code",
   "execution_count": 112,
   "metadata": {},
   "outputs": [
    {
     "name": "stdout",
     "output_type": "stream",
     "text": [
      "[ 1072  1718 11811 12358 16112]\n"
     ]
    }
   ],
   "source": [
    "aux = dfTrain[dfTrain[\"CustomerID\"] == user][\"MovieID\"].to_numpy() \n",
    "print(aux)"
   ]
  },
  {
   "cell_type": "code",
   "execution_count": 211,
   "metadata": {},
   "outputs": [],
   "source": [
    "def propagatedAux(user):\n",
    "    # known movies watched by user during July\n",
    "    aux = dfTrain[dfTrain[\"CustomerID\"] == user][\"MovieID\"].to_numpy() \n",
    "    n = len(aux)\n",
    "    \n",
    "    # get subset of days where a rating was given by user\n",
    "    validDays = countDF[countDF[\"CustomerID\"] == 2555][\"Day\"]\n",
    "    \n",
    "    prop = dict()\n",
    "    \n",
    "    for day in validDays:            \n",
    "        deltaMatrix = np.zeros((n, n))\n",
    "        for i in range(n):\n",
    "            if day > 1:\n",
    "                if aux[i] not in simLists[day - 2].keys():\n",
    "                    continue\n",
    "                lastSimList = simLists[day - 2][aux[i]]\n",
    "            currSimList = simLists[day - 1][aux[i]]\n",
    "            \n",
    "            for j in range(i + 1, n):\n",
    "                if day == 1:\n",
    "                    startScore = 0\n",
    "                else:\n",
    "                    startScore = getScore(aux[j], lastSimList)\n",
    "                endScore = getScore(aux[j], currSimList)\n",
    "                scoreDelta = endScore - startScore\n",
    "                if np.isnan(scoreDelta):\n",
    "                    scoreDelta = 0\n",
    "                deltaMatrix[i][j] = scoreDelta\n",
    "                deltaMatrix[j][i] = scoreDelta\n",
    "        #print(\"day: \", day)\n",
    "        for i, movieID in enumerate(aux):\n",
    "            deltaSum = np.sum(deltaMatrix[i])\n",
    "            #print(f\"movie: {movieID} deltaSum: \", deltaSum)\n",
    "            if deltaSum > 0:\n",
    "                if movieID not in prop:\n",
    "                    prop[movieID] = day\n",
    "    return prop"
   ]
  },
  {
   "cell_type": "code",
   "execution_count": 218,
   "metadata": {},
   "outputs": [],
   "source": [
    "def filterAux(A, day):\n",
    "    newA = set()\n",
    "    for key, value in A.items():\n",
    "        if value <= day:\n",
    "            newA.add(key)\n",
    "    return newA"
   ]
  },
  {
   "cell_type": "code",
   "execution_count": null,
   "metadata": {},
   "outputs": [],
   "source": [
    "def alg2(user, day, A):\n",
    "    A = filterAux(A, day)\n",
    "    "
   ]
  },
  {
   "cell_type": "code",
   "execution_count": 212,
   "metadata": {},
   "outputs": [
    {
     "name": "stdout",
     "output_type": "stream",
     "text": [
      "day:  7\n",
      "day:  11\n",
      "day:  18\n",
      "day:  25\n",
      "day:  26\n",
      "day:  29\n"
     ]
    },
    {
     "data": {
      "text/plain": [
       "{1072: 18, 11811: 18, 16112: 18}"
      ]
     },
     "execution_count": 212,
     "metadata": {},
     "output_type": "execute_result"
    }
   ],
   "source": []
  },
  {
   "cell_type": "code",
   "execution_count": 223,
   "metadata": {},
   "outputs": [],
   "source": [
    "user, day = userPairs[2]"
   ]
  },
  {
   "cell_type": "code",
   "execution_count": 224,
   "metadata": {},
   "outputs": [
    {
     "name": "stdout",
     "output_type": "stream",
     "text": [
      "day:  7\n",
      "day:  11\n",
      "day:  18\n",
      "day:  25\n",
      "day:  26\n",
      "day:  29\n"
     ]
    },
    {
     "data": {
      "text/plain": [
       "{1072: 18, 11811: 18, 16112: 18}"
      ]
     },
     "execution_count": 224,
     "metadata": {},
     "output_type": "execute_result"
    }
   ],
   "source": [
    "propagatedAux(user)"
   ]
  },
  {
   "cell_type": "code",
   "execution_count": null,
   "metadata": {},
   "outputs": [],
   "source": []
  }
 ],
 "metadata": {
  "kernelspec": {
   "display_name": "Python 3",
   "language": "python",
   "name": "python3"
  },
  "language_info": {
   "codemirror_mode": {
    "name": "ipython",
    "version": 3
   },
   "file_extension": ".py",
   "mimetype": "text/x-python",
   "name": "python",
   "nbconvert_exporter": "python",
   "pygments_lexer": "ipython3",
   "version": "3.7.4"
  }
 },
 "nbformat": 4,
 "nbformat_minor": 2
}
