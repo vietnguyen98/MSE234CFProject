{
 "cells": [
  {
   "cell_type": "markdown",
   "metadata": {},
   "source": [
    "# MS&E 234 Project\n",
    "\n",
    "### Data cleaning"
   ]
  },
  {
   "cell_type": "code",
   "execution_count": 2,
   "metadata": {},
   "outputs": [],
   "source": [
    "import pandas as pd\n",
    "import numpy as np\n",
    "import matplotlib.pyplot as plt\n",
    "import re\n",
    "from random import sample\n",
    "import itertools\n",
    "from collections import defaultdict, Counter\n",
    "from tqdm.notebook import tqdm\n",
    "import pickle"
   ]
  },
  {
   "cell_type": "markdown",
   "metadata": {},
   "source": [
    "### Load data"
   ]
  },
  {
   "cell_type": "code",
   "execution_count": 2,
   "metadata": {},
   "outputs": [
    {
     "data": {
      "text/html": [
       "<div>\n",
       "<style scoped>\n",
       "    .dataframe tbody tr th:only-of-type {\n",
       "        vertical-align: middle;\n",
       "    }\n",
       "\n",
       "    .dataframe tbody tr th {\n",
       "        vertical-align: top;\n",
       "    }\n",
       "\n",
       "    .dataframe thead th {\n",
       "        text-align: right;\n",
       "    }\n",
       "</style>\n",
       "<table border=\"1\" class=\"dataframe\">\n",
       "  <thead>\n",
       "    <tr style=\"text-align: right;\">\n",
       "      <th></th>\n",
       "      <th>CustomerID</th>\n",
       "      <th>Rating</th>\n",
       "      <th>Date</th>\n",
       "    </tr>\n",
       "  </thead>\n",
       "  <tbody>\n",
       "    <tr>\n",
       "      <td>0</td>\n",
       "      <td>1:</td>\n",
       "      <td>NaN</td>\n",
       "      <td>NaN</td>\n",
       "    </tr>\n",
       "    <tr>\n",
       "      <td>1</td>\n",
       "      <td>1488844</td>\n",
       "      <td>3.0</td>\n",
       "      <td>2005-09-06</td>\n",
       "    </tr>\n",
       "    <tr>\n",
       "      <td>2</td>\n",
       "      <td>822109</td>\n",
       "      <td>5.0</td>\n",
       "      <td>2005-05-13</td>\n",
       "    </tr>\n",
       "    <tr>\n",
       "      <td>3</td>\n",
       "      <td>885013</td>\n",
       "      <td>4.0</td>\n",
       "      <td>2005-10-19</td>\n",
       "    </tr>\n",
       "    <tr>\n",
       "      <td>4</td>\n",
       "      <td>30878</td>\n",
       "      <td>4.0</td>\n",
       "      <td>2005-12-26</td>\n",
       "    </tr>\n",
       "    <tr>\n",
       "      <td>...</td>\n",
       "      <td>...</td>\n",
       "      <td>...</td>\n",
       "      <td>...</td>\n",
       "    </tr>\n",
       "    <tr>\n",
       "      <td>100498272</td>\n",
       "      <td>1790158</td>\n",
       "      <td>4.0</td>\n",
       "      <td>2005-11-01</td>\n",
       "    </tr>\n",
       "    <tr>\n",
       "      <td>100498273</td>\n",
       "      <td>1608708</td>\n",
       "      <td>3.0</td>\n",
       "      <td>2005-07-19</td>\n",
       "    </tr>\n",
       "    <tr>\n",
       "      <td>100498274</td>\n",
       "      <td>234275</td>\n",
       "      <td>1.0</td>\n",
       "      <td>2004-08-07</td>\n",
       "    </tr>\n",
       "    <tr>\n",
       "      <td>100498275</td>\n",
       "      <td>255278</td>\n",
       "      <td>4.0</td>\n",
       "      <td>2004-05-28</td>\n",
       "    </tr>\n",
       "    <tr>\n",
       "      <td>100498276</td>\n",
       "      <td>453585</td>\n",
       "      <td>2.0</td>\n",
       "      <td>2005-03-10</td>\n",
       "    </tr>\n",
       "  </tbody>\n",
       "</table>\n",
       "<p>100498277 rows × 3 columns</p>\n",
       "</div>"
      ],
      "text/plain": [
       "          CustomerID  Rating        Date\n",
       "0                 1:     NaN         NaN\n",
       "1            1488844     3.0  2005-09-06\n",
       "2             822109     5.0  2005-05-13\n",
       "3             885013     4.0  2005-10-19\n",
       "4              30878     4.0  2005-12-26\n",
       "...              ...     ...         ...\n",
       "100498272    1790158     4.0  2005-11-01\n",
       "100498273    1608708     3.0  2005-07-19\n",
       "100498274     234275     1.0  2004-08-07\n",
       "100498275     255278     4.0  2004-05-28\n",
       "100498276     453585     2.0  2005-03-10\n",
       "\n",
       "[100498277 rows x 3 columns]"
      ]
     },
     "execution_count": 2,
     "metadata": {},
     "output_type": "execute_result"
    }
   ],
   "source": [
    "df_raw = pd.DataFrame()\n",
    "for i in range(1, 4+1):\n",
    "    df_raw = pd.concat([df_raw, pd.read_csv(f'../netflix-prize-kaggle-data/combined_data_{i}.txt',\n",
    "        header=None,\n",
    "        names=['CustomerID', 'Rating', 'Date'])])\n",
    "df_raw = df_raw.reset_index(drop = True)\n",
    "df_raw"
   ]
  },
  {
   "cell_type": "markdown",
   "metadata": {},
   "source": [
    "### Subset data as in paper (Calandrino 2011)"
   ]
  },
  {
   "cell_type": "code",
   "execution_count": 2,
   "metadata": {},
   "outputs": [],
   "source": [
    "def buildDataset(df, userList, train):\n",
    "    print(\"Entire dataset: 100498277 ratings; 480189 users\")\n",
    "    # Sample 10000 users\n",
    "    df = df[df['CustomerID'].isin(userList)]\n",
    "    print(f\"Subset of 10000 users: {df.shape[0]} ratings; {df['CustomerID'].nunique()} users\")\n",
    "\n",
    "    if train:\n",
    "        # Assume each user makes a random 50% of transactions public\n",
    "        idxs = df[['CustomerID']].reset_index().groupby('CustomerID').agg({'index':lambda x: list(x)}).to_numpy().tolist()\n",
    "        drop_idxs = []\n",
    "        for i in range(len(idxs)):\n",
    "            drop_idxs.append(sample(idxs[i][0], len(idxs[i][0]) // 2))\n",
    "        drop_idxs = list(itertools.chain(*drop_idxs))\n",
    "        df = df.drop(drop_idxs)\n",
    "        print(f'After making 50% private: {df.shape[0]} ratings; {df.CustomerID.nunique()} users')\n",
    "\n",
    "        # Only consider users with at least 100 public transactions\n",
    "        df = df[df['CustomerID'].isin(df['CustomerID'].value_counts()[df['CustomerID'].value_counts() > 100].index)]\n",
    "        print(f'Filter for users with >= 100 public transactions: {df.shape[0]} ratings; {df.CustomerID.nunique()} users')\n",
    "\n",
    "    # Subset the data to analyze only ratings from July 2005\n",
    "    df = df[df['Date'].apply(lambda x: type(x) == str and bool(re.match(r'2005-07.*', x)))]\n",
    "    print(f'Only July 2005: {df.shape[0]} ratings; {df[\"CustomerID\"].nunique()} users')\n",
    "          \n",
    "    return df"
   ]
  },
  {
   "cell_type": "code",
   "execution_count": 2,
   "metadata": {},
   "outputs": [],
   "source": [
    "# extract movie ID's from raw data, combine these with df\n",
    "# The data files follow the following format:\n",
    "# Movie ID:\n",
    "# CustomerID, Rating, Date\n",
    "# ...\n",
    "\n",
    "def addMovieInfo(df, movieDF):\n",
    "    movieRows = np.array(movieDF.index)\n",
    "    movieIDs = []\n",
    "    currIdx = 0\n",
    "    for row in df.itertuples(index = True, name = 'Pandas'):\n",
    "        currRow = row.Index\n",
    "        while currIdx < len(movieRows) - 1:\n",
    "            nextMovieRow = movieRows[currIdx + 1]\n",
    "            if currRow > nextMovieRow:\n",
    "                currIdx += 1\n",
    "            else:\n",
    "                break\n",
    "        movieIDs.append(currIdx)\n",
    "    df[\"MovieID\"] = movieIDs\n",
    "    df['Day'] = pd.DatetimeIndex(df['Date']).day\n",
    "    return df"
   ]
  },
  {
   "cell_type": "code",
   "execution_count": 3,
   "metadata": {},
   "outputs": [],
   "source": [
    "# input: 2 sets x, y\n",
    "# output: for binary vectors x and y: cosine similarity = |x and y| / sqrt(|x||y|)\n",
    "def getCosSim(x, y):\n",
    "    return len(x.intersection(y)) / np.sqrt(len(x) * len(y))"
   ]
  },
  {
   "cell_type": "code",
   "execution_count": 4,
   "metadata": {},
   "outputs": [],
   "source": [
    "# input: sparse binary adjList\n",
    "# output: dict of the 50 most similar items and scores, in format: dict[movieID] => ([(items, scores)])\n",
    "def getSimListDaily(adjList):\n",
    "    simList = {}\n",
    "    for key1 in adjList.keys():\n",
    "        cosSims = []\n",
    "        for key2 in adjList.keys():\n",
    "            if key1 == key2:\n",
    "                continue\n",
    "            cosSim = getCosSim(adjList[key1], adjList[key2])\n",
    "            cosSims.append((key2, cosSim))\n",
    "        simList[key1] = sorted(cosSims, key = lambda x: (-x[1], x[0]))[:50]\n",
    "    return simList"
   ]
  },
  {
   "cell_type": "code",
   "execution_count": 5,
   "metadata": {},
   "outputs": [],
   "source": [
    "# input: dataframe of customerIDs, Ratings, Day of Month, and MovieIDs\n",
    "# input dataframe should contain both public and private data, as the recc system uses all available information\n",
    "# output: list of 50 related movies and similarity ratings per day\n",
    "# on each consecutive day, more data is used by the recc system\n",
    "# uses cosine similarity on a binary matrix\n",
    "def getSimListMonthly(df):\n",
    "    # store binary matrix in sparse adjacency list format\n",
    "    # adjList[movieID] => set of customerIDs\n",
    "    adjList = defaultdict(set)\n",
    "    \n",
    "    simLists = []\n",
    "    \n",
    "    for day in tqdm(sorted(df[\"Day\"].unique())):\n",
    "        # add new movies from today to adjList\n",
    "        currDF = df[df[\"Day\"] == day]\n",
    "        for row in currDF.itertuples(index = True, name = 'Pandas'):\n",
    "            adjList[row.MovieID].add(row.CustomerID)\n",
    "        \n",
    "        # compute similarity scores\n",
    "        currSimList = getSimListDaily(adjList)\n",
    "        simLists.append(currSimList)\n",
    "    return simLists"
   ]
  },
  {
   "cell_type": "code",
   "execution_count": 8,
   "metadata": {},
   "outputs": [
    {
     "name": "stdout",
     "output_type": "stream",
     "text": [
      "Entire dataset: 100498277 ratings; 480189 users\n",
      "Subset of 10000 users: 2086064 ratings; 10000 users\n",
      "After making 50% private: 1045448 ratings; 10000 users\n",
      "Filter for users with >= 100 public transactions: 806422 ratings; 3159 users\n",
      "Only July 2005: 35238 ratings; 1999 users\n",
      "Entire dataset: 100498277 ratings; 480189 users\n",
      "Subset of 10000 users: 2086064 ratings; 10000 users\n",
      "Only July 2005: 100667 ratings; 4439 users\n"
     ]
    }
   ],
   "source": [
    "movieDF = df_raw[df_raw['Rating'].isnull()]\n",
    "userList = sample(df_raw.dropna()['CustomerID'].unique().tolist(), 10000)\n",
    "dfTrain = buildDataset(df_raw, userList, train = True)\n",
    "dfTrain = addMovieInfo(dfTrain, movieDF)\n",
    "dfTest = buildDataset(df_raw, userList, train = False)\n",
    "dfTest = addMovieInfo(dfTest, movieDF)\n",
    "dfTrain.to_csv(\"train/Trial1.csv\")\n",
    "dfTest.to_csv(\"test/Trial1.csv\")"
   ]
  },
  {
   "cell_type": "code",
   "execution_count": 9,
   "metadata": {},
   "outputs": [
    {
     "data": {
      "application/vnd.jupyter.widget-view+json": {
       "model_id": "4cd1fb8cccbf4e63a0c844088250280f",
       "version_major": 2,
       "version_minor": 0
      },
      "text/plain": [
       "HBox(children=(IntProgress(value=0, max=31), HTML(value='')))"
      ]
     },
     "metadata": {},
     "output_type": "display_data"
    },
    {
     "name": "stdout",
     "output_type": "stream",
     "text": [
      "\n"
     ]
    }
   ],
   "source": [
    "simLists = getSimListMonthly(dfTest)"
   ]
  },
  {
   "cell_type": "code",
   "execution_count": 10,
   "metadata": {},
   "outputs": [],
   "source": [
    "#fileName = 'simLists/Trial1.pkl'\n",
    "#with open(fileName, 'wb') as handle:\n",
    "#    pickle.dump(simLists, handle)"
   ]
  },
  {
   "cell_type": "code",
   "execution_count": 67,
   "metadata": {},
   "outputs": [],
   "source": [
    "fileName = 'simLists/Trial1.pkl'\n",
    "with open(fileName, 'rb') as handle:\n",
    "    simLists = pickle.load(handle)"
   ]
  },
  {
   "cell_type": "code",
   "execution_count": 68,
   "metadata": {},
   "outputs": [
    {
     "data": {
      "application/vnd.jupyter.widget-view+json": {
       "model_id": "2c43fb0deb954048bf8f6fab3d071091",
       "version_major": 2,
       "version_minor": 0
      },
      "text/plain": [
       "HBox(children=(IntProgress(value=0, max=31), HTML(value='')))"
      ]
     },
     "metadata": {},
     "output_type": "display_data"
    },
    {
     "name": "stdout",
     "output_type": "stream",
     "text": [
      "\n"
     ]
    }
   ],
   "source": [
    "for i in tqdm(range(len(simLists))):\n",
    "    for key in simLists[i].keys():\n",
    "        simLists[i][key] = dict(simLists[i][key])"
   ]
  },
  {
   "cell_type": "code",
   "execution_count": 3,
   "metadata": {},
   "outputs": [],
   "source": [
    "dfTrain = pd.read_csv(\"train/Trial1.csv\", index_col = 0)\n",
    "dfTest = pd.read_csv(\"test/Trial1.csv\", index_col = 0)"
   ]
  },
  {
   "cell_type": "code",
   "execution_count": 4,
   "metadata": {},
   "outputs": [
    {
     "name": "stdout",
     "output_type": "stream",
     "text": [
      "number of (user, date) pairs: 14732 \n",
      "(user, date) pairs with <= 5 transactions: 12233\n",
      "filter by users with >= 100 transactions (in the whole dataset): 7121\n",
      "final transaction count:  13367\n"
     ]
    }
   ],
   "source": [
    "countDF = dfTest.groupby([\"CustomerID\", \"Day\"]).count()\n",
    "print(f\"number of (user, date) pairs: {countDF.shape[0]} \")\n",
    "countDF = countDF[countDF[\"Rating\"] <= 5]\n",
    "print(f\"(user, date) pairs with <= 5 transactions: {countDF.shape[0]}\")\n",
    "validUsers = set(dfTrain[\"CustomerID\"].unique())\n",
    "countDF = countDF.reset_index()\n",
    "countDF = countDF[countDF[\"CustomerID\"].isin(validUsers)]\n",
    "#monthlyCountDF = dfTest.groupby([\"CustomerID\"]).count()\n",
    "print(f\"filter by users with >= 100 transactions (in the whole dataset): {countDF.shape[0]}\")\n",
    "print(\"final transaction count: \", countDF[\"Rating\"].sum())\n",
    "#validUsers = set(monthlyCountDF[(monthlyCountDF[\"Rating\"] > 100).values].index)\n",
    "#countDF = countDF[countDF[\"CustomerID\"].isin(validUsers)]\n",
    "#print(f\"filter by users with >= 100 transactions (July): {countDF.shape[0]}\")\n",
    "userPairs = countDF[[\"CustomerID\", \"Day\"]].to_numpy()\n",
    "\n",
    "# reset countDF to contain full count info\n",
    "countDF = dfTest.groupby([\"CustomerID\", \"Day\"]).count()\n",
    "countDF = countDF.reset_index()"
   ]
  },
  {
   "cell_type": "code",
   "execution_count": 5,
   "metadata": {},
   "outputs": [
    {
     "name": "stdout",
     "output_type": "stream",
     "text": [
      "> 100 txn users (full dataset):  1999\n",
      "> 100 txn users (July):  197\n"
     ]
    }
   ],
   "source": [
    "print(\"> 100 txn users (full dataset): \", len(set(dfTrain[\"CustomerID\"].unique())))\n",
    "monthlyCountDF = dfTest.groupby([\"CustomerID\"]).count()\n",
    "print(\"> 100 txn users (July): \", len(set(monthlyCountDF[(monthlyCountDF[\"Rating\"] > 100).values].index)))"
   ]
  },
  {
   "cell_type": "code",
   "execution_count": 6,
   "metadata": {},
   "outputs": [
    {
     "data": {
      "text/plain": [
       "7121"
      ]
     },
     "execution_count": 6,
     "metadata": {},
     "output_type": "execute_result"
    }
   ],
   "source": [
    "len(userPairs)"
   ]
  },
  {
   "cell_type": "code",
   "execution_count": 7,
   "metadata": {},
   "outputs": [
    {
     "data": {
      "text/plain": [
       "1826"
      ]
     },
     "execution_count": 7,
     "metadata": {},
     "output_type": "execute_result"
    }
   ],
   "source": [
    "len(np.unique(userPairs[:, 0]))"
   ]
  },
  {
   "cell_type": "code",
   "execution_count": 8,
   "metadata": {},
   "outputs": [
    {
     "name": "stdout",
     "output_type": "stream",
     "text": [
      "number of (user, date) pairs: 14732 \n",
      "(user, date) pairs with <= 5 transactions: 12233\n"
     ]
    }
   ],
   "source": [
    "countDF = dfTest.groupby([\"CustomerID\", \"Day\"]).count()\n",
    "print(f\"number of (user, date) pairs: {countDF.shape[0]} \")\n",
    "countDF = countDF[countDF[\"Rating\"] <= 5]\n",
    "print(f\"(user, date) pairs with <= 5 transactions: {countDF.shape[0]}\")\n",
    "validUsers = set(dfTrain[\"CustomerID\"].unique())\n",
    "countDF = countDF.reset_index()\n",
    "countDF = countDF[countDF[\"CustomerID\"].isin(validUsers)]"
   ]
  },
  {
   "cell_type": "code",
   "execution_count": 9,
   "metadata": {},
   "outputs": [],
   "source": [
    "def getScore(searchID, simList):\n",
    "    if searchID in simList:\n",
    "        return simList[searchID]\n",
    "    else:\n",
    "        return np.nan"
   ]
  },
  {
   "cell_type": "code",
   "execution_count": 10,
   "metadata": {},
   "outputs": [],
   "source": [
    "def propagatedAux(user):\n",
    "    # known movies watched by user during July\n",
    "    aux = dfTrain[dfTrain[\"CustomerID\"] == user][\"MovieID\"].to_numpy() \n",
    "    n = len(aux)\n",
    "    \n",
    "    # get subset of days where a rating was given by user\n",
    "    validDays = countDF[countDF[\"CustomerID\"] == user][\"Day\"]\n",
    "    \n",
    "    prop = dict()\n",
    "    \n",
    "    for day in validDays:            \n",
    "        deltaMatrix = np.zeros((n, n))\n",
    "        for i in range(n):\n",
    "            if day > 1:\n",
    "                if aux[i] not in simLists[day - 2].keys():\n",
    "                    continue\n",
    "                lastSimList = simLists[day - 2][aux[i]]\n",
    "            currSimList = simLists[day - 1][aux[i]]\n",
    "            \n",
    "            for j in range(i + 1, n):\n",
    "                if day == 1:\n",
    "                    startScore = 0\n",
    "                else:\n",
    "                    startScore = getScore(aux[j], lastSimList)\n",
    "                endScore = getScore(aux[j], currSimList)\n",
    "                scoreDelta = endScore - startScore\n",
    "                if np.isnan(scoreDelta):\n",
    "                    scoreDelta = 0\n",
    "                deltaMatrix[i][j] = scoreDelta\n",
    "                deltaMatrix[j][i] = scoreDelta\n",
    "        #print(\"day: \", day)\n",
    "        for i, movieID in enumerate(aux):\n",
    "            deltaSum = np.sum(deltaMatrix[i])\n",
    "            #print(f\"movie: {movieID} deltaSum: \", deltaSum)\n",
    "            if deltaSum > 0:\n",
    "                if movieID not in prop:\n",
    "                    prop[movieID] = day\n",
    "    return prop"
   ]
  },
  {
   "cell_type": "code",
   "execution_count": 11,
   "metadata": {},
   "outputs": [],
   "source": [
    "def filterAux(A, day):\n",
    "    newA = set()\n",
    "    for key, value in A.items():\n",
    "        if value <= day:\n",
    "            newA.add(key)\n",
    "    return newA"
   ]
  },
  {
   "cell_type": "code",
   "execution_count": 170,
   "metadata": {},
   "outputs": [],
   "source": [
    "def getSupports(A, day, T):\n",
    "    TScores = Counter()\n",
    "        \n",
    "    for movieID in A:\n",
    "        if day > 1:\n",
    "            if movieID not in simLists[day - 2].keys():\n",
    "                continue\n",
    "            lastSimList = simLists[day - 2][movieID]\n",
    "        else:\n",
    "            if movieID not in simLists[day - 1].keys():\n",
    "                continue\n",
    "        currSimList = simLists[day - 1][movieID]\n",
    "        \n",
    "        for movieID2 in T:\n",
    "            if day > 1:\n",
    "                if movieID2 not in simLists[day - 2].keys():\n",
    "                    continue\n",
    "            else:\n",
    "                if movieID2 not in simLists[day - 1].keys():\n",
    "                    continue\n",
    "            if day == 1:\n",
    "                startScore = 0\n",
    "            else:\n",
    "                startScore = getScore(movieID2, lastSimList)\n",
    "                if np.isnan(startScore):\n",
    "                    startScore = getScore(movieID, simLists[day - 2][movieID2])\n",
    "            endScore = getScore(movieID2, currSimList)\n",
    "            if np.isnan(startScore):\n",
    "                startScore = getScore(movieID, simLists[day - 1][movieID2])\n",
    "\n",
    "            if np.isnan(startScore) and not np.isnan(endScore):\n",
    "                TScores[movieID2] += 1\n",
    "            elif endScore > startScore:\n",
    "                TScores[movieID2] += 1\n",
    "        \n",
    "    return TScores\n",
    "\n",
    "def alg2(fullAux, propAux, day, T, scoreThreshold = 0.1, supportThreshold = 3):\n",
    "    T = T - fullAux\n",
    "    A = filterAux(propAux, day)\n",
    "    n = len(A)\n",
    "    \n",
    "    inferences = []\n",
    "    scores = []\n",
    "    supportList = []\n",
    "    \n",
    "    if n < supportThreshold:\n",
    "        return inferences, scores, supportList\n",
    "    \n",
    "    supports = getSupports(A, day, T)\n",
    "    for movieID in supports:\n",
    "        support = supports[movieID]\n",
    "        score = support / n\n",
    "        if score > scoreThreshold and support >= supportThreshold:\n",
    "            inferences.append(movieID)\n",
    "            scores.append(score)\n",
    "            supportList.append(support)\n",
    "    return inferences, scores, supportList"
   ]
  },
  {
   "cell_type": "code",
   "execution_count": 171,
   "metadata": {},
   "outputs": [
    {
     "name": "stdout",
     "output_type": "stream",
     "text": [
      "fullAux:  6\n",
      "propAux:  5\n",
      "day:  18\n",
      "soln (before subtracting):  {7444}\n"
     ]
    },
    {
     "ename": "ValueError",
     "evalue": "too many values to unpack (expected 2)",
     "output_type": "error",
     "traceback": [
      "\u001b[0;31m---------------------------------------------------------------------------\u001b[0m",
      "\u001b[0;31mValueError\u001b[0m                                Traceback (most recent call last)",
      "\u001b[0;32m<ipython-input-171-1242a0a92f8a>\u001b[0m in \u001b[0;36m<module>\u001b[0;34m\u001b[0m\n\u001b[1;32m     10\u001b[0m \u001b[0msoln\u001b[0m \u001b[0;34m=\u001b[0m \u001b[0msoln\u001b[0m \u001b[0;34m-\u001b[0m \u001b[0mfullAux\u001b[0m\u001b[0;34m\u001b[0m\u001b[0;34m\u001b[0m\u001b[0m\n\u001b[1;32m     11\u001b[0m \u001b[0;34m\u001b[0m\u001b[0m\n\u001b[0;32m---> 12\u001b[0;31m \u001b[0minferences\u001b[0m\u001b[0;34m,\u001b[0m \u001b[0mscores\u001b[0m \u001b[0;34m=\u001b[0m \u001b[0malg2\u001b[0m\u001b[0;34m(\u001b[0m\u001b[0mfullAux\u001b[0m\u001b[0;34m,\u001b[0m \u001b[0mpropAux\u001b[0m\u001b[0;34m,\u001b[0m \u001b[0mday\u001b[0m\u001b[0;34m,\u001b[0m \u001b[0mT\u001b[0m\u001b[0;34m,\u001b[0m \u001b[0mscoreThreshold\u001b[0m \u001b[0;34m=\u001b[0m \u001b[0;36m0.1\u001b[0m\u001b[0;34m)\u001b[0m\u001b[0;34m\u001b[0m\u001b[0;34m\u001b[0m\u001b[0m\n\u001b[0m\u001b[1;32m     13\u001b[0m \u001b[0mprint\u001b[0m\u001b[0;34m(\u001b[0m\u001b[0;34m\"soln size: \"\u001b[0m\u001b[0;34m,\u001b[0m \u001b[0mlen\u001b[0m\u001b[0;34m(\u001b[0m\u001b[0msoln\u001b[0m\u001b[0;34m)\u001b[0m\u001b[0;34m)\u001b[0m\u001b[0;34m\u001b[0m\u001b[0;34m\u001b[0m\u001b[0m\n\u001b[1;32m     14\u001b[0m \u001b[0mprint\u001b[0m\u001b[0;34m(\u001b[0m\u001b[0;34m\"infer size: \"\u001b[0m\u001b[0;34m,\u001b[0m \u001b[0mlen\u001b[0m\u001b[0;34m(\u001b[0m\u001b[0minferences\u001b[0m\u001b[0;34m)\u001b[0m\u001b[0;34m)\u001b[0m\u001b[0;34m\u001b[0m\u001b[0;34m\u001b[0m\u001b[0m\n",
      "\u001b[0;31mValueError\u001b[0m: too many values to unpack (expected 2)"
     ]
    }
   ],
   "source": [
    "T = set(dfTest[\"MovieID\"].unique())\n",
    "fullAux = set(dfTrain[dfTrain[\"CustomerID\"] == user][\"MovieID\"])\n",
    "soln = set(dfTest[(dfTest[\"CustomerID\"] == user) & (dfTest[\"Day\"] == day)][\"MovieID\"])\n",
    "propAux = dict(dfTrain[dfTrain[\"CustomerID\"] == user][[\"MovieID\", \"Day\"]].to_numpy())\n",
    "\n",
    "print(\"fullAux: \", len(fullAux))\n",
    "print(\"propAux: \", len(filterAux(propAux, day)))\n",
    "print(\"day: \", day)\n",
    "print(\"soln (before subtracting): \", soln)\n",
    "soln = soln - fullAux\n",
    "    \n",
    "inferences, scores = alg2(fullAux, propAux, day, T, scoreThreshold = 0.1)\n",
    "print(\"soln size: \", len(soln))\n",
    "print(\"infer size: \", len(inferences))\n",
    "print(\"soln: \", soln)\n",
    "print(\"infer: \", inferences)\n",
    "\n",
    "if len(inferSet) > 0:\n",
    "    print(\"user, day: \", user, day)\n",
    "    print(f\"percent inferences: {len(soln.intersection(inferences))} / {len(inferences)}\")\n",
    "    print(f\"num solutions correct: {len(soln.intersection(inferences))} / {len(soln)}\")"
   ]
  },
  {
   "cell_type": "code",
   "execution_count": 178,
   "metadata": {},
   "outputs": [],
   "source": [
    "# TRAIN\n",
    "# fullAux - all train movies ever watched by user\n",
    "# propAux - dictionary of movies => days\n",
    "# TEST\n",
    "# soln - test movies for given user, day pair\n",
    "def splitTrainTest(user, dfTest, trainRatio):\n",
    "    temp = dfTest[dfTest[\"CustomerID\"] == user][[\"MovieID\", \"Day\"]].to_numpy()\n",
    "    idxs = np.array(sample(range(len(temp)), int(len(temp) * trainRatio)))\n",
    "    mask = np.full(temp.shape[0], False, dtype=bool)\n",
    "    if len(idxs) > 0:\n",
    "        mask[idxs] = True\n",
    "    fullTrain = temp[mask]\n",
    "    fullTest = temp[~mask]\n",
    "    fullAux = set(fullTrain[:, 0])\n",
    "    propAux = dict(fullTrain)\n",
    "    solnDict = defaultdict(list)\n",
    "    for row in fullTest:\n",
    "        solnDict[row[1]].append(row[0])\n",
    "    return fullAux, propAux, solnDict"
   ]
  },
  {
   "cell_type": "code",
   "execution_count": 199,
   "metadata": {},
   "outputs": [],
   "source": [
    "def getInf(trainRatio):\n",
    "    T = set(dfTest[\"MovieID\"].unique())\n",
    "\n",
    "    allInf = []\n",
    "    trainSize = defaultdict(int)\n",
    "    solnSize = defaultdict(int)\n",
    "\n",
    "    lastUser = None\n",
    "    for user, day in tqdm(userPairs):\n",
    "        #print(user, day)\n",
    "        if lastUser is None:\n",
    "            fullAux, propAux, solnDict = splitTrainTest(user, dfTest, trainRatio)\n",
    "            \n",
    "        if user != lastUser:\n",
    "            fullAux, propAux, solnDict = splitTrainTest(user, dfTest, trainRatio)\n",
    "            lastUser = user\n",
    "\n",
    "        soln = solnDict[day]\n",
    "\n",
    "        filteredAux = filterAux(propAux, day)\n",
    "        \n",
    "        if len(filteredAux) == 0:\n",
    "            continue\n",
    "\n",
    "        if len(soln) == 0:\n",
    "            continue\n",
    "            \n",
    "        trainSize[(user, day)] = len(filteredAux)\n",
    "        solnSize[(user, day)] = len(soln)\n",
    "\n",
    "        currInf, currScores, currSupports = alg2(fullAux, propAux, day, T, scoreThreshold = 0.1, \n",
    "                                                 supportThreshold = 3)\n",
    "\n",
    "        \n",
    "        for i in range(len(currInf)):\n",
    "            allInf.append((user, day, currInf[i], currScores[i], currSupports[i], currInf[i] in soln))\n",
    "\n",
    "    return allInf, trainSize, solnSize\n",
    "    #if len(currInf) > 0:\n",
    "    #    print(\"totalInf: \", len(allInf))\n",
    "    \n",
    "    #print(\"soln size: \", len(soln))\n",
    "    #if len(inferSet) > 0:\n",
    "        #print(\"user, day: \", user, day)\n",
    "        #print(f\"percent inferences: {len(soln.intersection(inferSet))} / {len(inferSet)}\")\n",
    "        #print(f\"num solutions correct: {len(soln.intersection(inferSet))} / {len(soln)}\")"
   ]
  },
  {
   "cell_type": "code",
   "execution_count": 200,
   "metadata": {},
   "outputs": [
    {
     "data": {
      "application/vnd.jupyter.widget-view+json": {
       "model_id": "98b819bc1c88463fa6b5f21bd6256af9",
       "version_major": 2,
       "version_minor": 0
      },
      "text/plain": [
       "HBox(children=(IntProgress(value=0, max=7121), HTML(value='')))"
      ]
     },
     "metadata": {},
     "output_type": "display_data"
    },
    {
     "name": "stdout",
     "output_type": "stream",
     "text": [
      "\n",
      "trainRatio0.25:\n",
      "totalInf:  7013\n",
      "unFiltered Accuracy:  0.025666619135890488\n"
     ]
    },
    {
     "data": {
      "application/vnd.jupyter.widget-view+json": {
       "model_id": "7af16bc673584a808560af9da8e1b829",
       "version_major": 2,
       "version_minor": 0
      },
      "text/plain": [
       "HBox(children=(IntProgress(value=0, max=7121), HTML(value='')))"
      ]
     },
     "metadata": {},
     "output_type": "display_data"
    },
    {
     "name": "stdout",
     "output_type": "stream",
     "text": [
      "\n",
      "trainRatio0.5:\n",
      "totalInf:  10145\n",
      "unFiltered Accuracy:  0.04110399211434204\n"
     ]
    },
    {
     "data": {
      "application/vnd.jupyter.widget-view+json": {
       "model_id": "e09c456716254091a7aec629a0ce1361",
       "version_major": 2,
       "version_minor": 0
      },
      "text/plain": [
       "HBox(children=(IntProgress(value=0, max=7121), HTML(value='')))"
      ]
     },
     "metadata": {},
     "output_type": "display_data"
    },
    {
     "name": "stdout",
     "output_type": "stream",
     "text": [
      "\n",
      "trainRatio0.75:\n",
      "totalInf:  7670\n",
      "unFiltered Accuracy:  0.04380704041720991\n"
     ]
    }
   ],
   "source": [
    "allInfs = []\n",
    "trainSizes = []\n",
    "solnSizes = []\n",
    "trainRatios = [.25, .5, .75]\n",
    "for i, trainRatio in enumerate(trainRatios):\n",
    "    allInf, trainSize, solnSize = getInf(trainRatio)\n",
    "    allInfs.append(allInf)\n",
    "    print(f\"trainRatio{trainRatio}:\")\n",
    "    print(\"totalInf: \", len(allInf))\n",
    "    print(\"unFiltered Accuracy: \", np.sum([x[5] for x in allInf]) / len(allInf))\n",
    "    trainSizes.append(trainSize)\n",
    "    solnSizes.append(solnSize)\n",
    "    fileName = f'results/trainRatio{trainRatio}.pkl'\n",
    "    with open(fileName, 'wb') as handle:\n",
    "        pickle.dump(allInfs[i], handle)\n",
    "    fileName = f'results/trainRatio{trainRatio}TrainSizes.pkl'\n",
    "    with open(fileName, 'wb') as handle:\n",
    "        pickle.dump(trainSizes[i], handle)\n",
    "    fileName = f'results/trainRatio{trainRatio}SolnSizes.pkl'\n",
    "    with open(fileName, 'wb') as handle:\n",
    "        pickle.dump(solnSizes[i], handle)"
   ]
  },
  {
   "cell_type": "code",
   "execution_count": 81,
   "metadata": {},
   "outputs": [],
   "source": [
    "#fileName = 'results/Trial1.pkl'\n",
    "#with open(fileName, 'wb') as handle:\n",
    "#    pickle.dump(allInf, handle)"
   ]
  },
  {
   "cell_type": "code",
   "execution_count": 13,
   "metadata": {},
   "outputs": [],
   "source": [
    "#fileName = 'results/Trial1.pkl'\n",
    "#with open(fileName, 'rb') as handle:\n",
    "#    allInf = pickle.load(handle)"
   ]
  },
  {
   "cell_type": "code",
   "execution_count": 205,
   "metadata": {},
   "outputs": [],
   "source": [
    "# filter inferences using max counts for (user, day) pairs\n",
    "def filterInf(allInf, solnSize):\n",
    "    sortedInf = sorted(allInf, key = lambda x: (x[0], x[1], -x[4]))\n",
    "\n",
    "    lastUser = None\n",
    "    lastDay = None\n",
    "\n",
    "    counter = 0\n",
    "    dailyPredMax = None\n",
    "\n",
    "    filteredInf = []\n",
    "\n",
    "    # use fact that we know total transaction count per day to filter inf\n",
    "    for inf in tqdm(sortedInf):\n",
    "        user, day, movieID, score, support, label = inf\n",
    "\n",
    "        if user != lastUser or day != lastDay:\n",
    "            lastUser = user\n",
    "            lastDay = day\n",
    "\n",
    "            dailyPredMax = solnSize[(user, day)]\n",
    "\n",
    "            counter = 0\n",
    "\n",
    "        if counter < dailyPredMax:\n",
    "            filteredInf.append(inf)\n",
    "\n",
    "        counter += 1\n",
    "    return filteredInf"
   ]
  },
  {
   "cell_type": "code",
   "execution_count": 217,
   "metadata": {},
   "outputs": [
    {
     "data": {
      "application/vnd.jupyter.widget-view+json": {
       "model_id": "b8809ab7d4184cc29f9a8cd80247f496",
       "version_major": 2,
       "version_minor": 0
      },
      "text/plain": [
       "HBox(children=(IntProgress(value=0, max=7013), HTML(value='')))"
      ]
     },
     "metadata": {},
     "output_type": "display_data"
    },
    {
     "name": "stdout",
     "output_type": "stream",
     "text": [
      "\n"
     ]
    },
    {
     "data": {
      "application/vnd.jupyter.widget-view+json": {
       "model_id": "46e67bd17cbc465e85ccacf2e15609c9",
       "version_major": 2,
       "version_minor": 0
      },
      "text/plain": [
       "HBox(children=(IntProgress(value=0, max=10145), HTML(value='')))"
      ]
     },
     "metadata": {},
     "output_type": "display_data"
    },
    {
     "name": "stdout",
     "output_type": "stream",
     "text": [
      "\n"
     ]
    },
    {
     "data": {
      "application/vnd.jupyter.widget-view+json": {
       "model_id": "213f2574af37437a85e7ee6e40f337e8",
       "version_major": 2,
       "version_minor": 0
      },
      "text/plain": [
       "HBox(children=(IntProgress(value=0, max=7670), HTML(value='')))"
      ]
     },
     "metadata": {},
     "output_type": "display_data"
    },
    {
     "name": "stdout",
     "output_type": "stream",
     "text": [
      "\n"
     ]
    }
   ],
   "source": [
    "filteredInfs = []\n",
    "for i in range(len(allInfs)):\n",
    "    filteredInfs.append(filterInf(allInfs[i], solnSizes[i]))"
   ]
  },
  {
   "cell_type": "code",
   "execution_count": 218,
   "metadata": {},
   "outputs": [],
   "source": [
    "def getFilterMetrics(inf, scoreThreshold, supportThreshold):\n",
    "    newInf = [x for x in inf if x[3] >= scoreThreshold and x[4] >= supportThreshold]\n",
    "    Yield = len(newInf)\n",
    "    if Yield == 0:\n",
    "        Acc = 0\n",
    "    else:\n",
    "        Acc = np.sum([x[5] for x in newInf]) / Yield\n",
    "    return Acc, Yield"
   ]
  },
  {
   "cell_type": "code",
   "execution_count": 220,
   "metadata": {},
   "outputs": [],
   "source": [
    "def getAccYieldCurve(filteredInf, supportCutoff):\n",
    "    accs = []\n",
    "    yields = []\n",
    "    for scoreCutoff in np.arange(0, 1, 0.01):\n",
    "        currAcc, currYield = getFilterMetrics(filteredInf, scoreCutoff, supportCutoff)\n",
    "        if currYield > 10:\n",
    "            accs.append(currAcc)\n",
    "            yields.append(currYield)\n",
    "    return accs, yields"
   ]
  },
  {
   "cell_type": "code",
   "execution_count": 222,
   "metadata": {},
   "outputs": [],
   "source": [
    "accList = []\n",
    "yieldList = []\n",
    "for i, filteredInf in enumerate(filteredInfs):\n",
    "    accs, yields = getAccYieldCurve(filteredInf, 3)\n",
    "    accList.append(accs)\n",
    "    yieldList.append(yields)"
   ]
  },
  {
   "cell_type": "code",
   "execution_count": 226,
   "metadata": {},
   "outputs": [
    {
     "data": {
      "image/png": "[encoded data removed]",
      "text/plain": [
       "<Figure size 432x288 with 1 Axes>"
      ]
     },
     "metadata": {
      "needs_background": "light"
     },
     "output_type": "display_data"
    }
   ],
   "source": [
    "plt.title(\"Alg. 2 Performance Over Different Auxiliary Set Sizes\")\n",
    "plt.xlabel(\"Yield\")\n",
    "plt.ylabel(\"Accuracy\")\n",
    "for i, ratio in enumerate(trainRatios):\n",
    "    plt.plot(yieldList[i], accList[i], label = f\"Auxiliary Set Ratio = {ratio}\")\n",
    "plt.grid()\n",
    "plt.legend()\n",
    "plt.savefig(\"plots/alg2DiffRatios.png\", dpi = 200)\n",
    "plt.show()"
   ]
  },
  {
   "cell_type": "code",
   "execution_count": 236,
   "metadata": {},
   "outputs": [
    {
     "name": "stdout",
     "output_type": "stream",
     "text": [
      "6.456361724500526\n",
      "11.705748175182482\n",
      "16.568872383524646\n",
      "2.0\n",
      "4.0\n",
      "5.0\n"
     ]
    }
   ],
   "source": [
    "print(np.mean(list(trainSizes[0].values())))\n",
    "print(np.mean(list(trainSizes[1].values())))\n",
    "print(np.mean(list(trainSizes[2].values())))\n",
    "print(np.median(list(trainSizes[0].values())))\n",
    "print(np.median(list(trainSizes[1].values())))\n",
    "print(np.median(list(trainSizes[2].values())))"
   ]
  },
  {
   "cell_type": "code",
   "execution_count": 274,
   "metadata": {},
   "outputs": [],
   "source": [
    "def getAccFromAuxSize(filteredInf, trainSize):\n",
    "    auxCorrect = defaultdict(int)\n",
    "    auxCounts = defaultdict(int)\n",
    "    for inf in filteredInf:\n",
    "        user, day, movieID, score, support, label = inf\n",
    "        if score < 0.5:\n",
    "            continue\n",
    "        auxSize = trainSize[(user, day)]\n",
    "        if label:\n",
    "            auxCorrect[auxSize] += 1\n",
    "        auxCounts[auxSize] += 1\n",
    "\n",
    "    data = [(key, auxCorrect[key] / auxCounts[key]) for key in auxCounts if auxCounts[key] >= 5]\n",
    "    return [x[0] for x in data], [x[1] for x in data]"
   ]
  },
  {
   "cell_type": "code",
   "execution_count": 275,
   "metadata": {},
   "outputs": [],
   "source": [
    "xs = []\n",
    "ys = []\n",
    "for i in range(len(filteredInfs)):\n",
    "    x, y = getAccFromAuxSize(filteredInfs[i], trainSizes[i])\n",
    "    xs.append(x)\n",
    "    ys.append(y)"
   ]
  },
  {
   "cell_type": "code",
   "execution_count": 277,
   "metadata": {},
   "outputs": [
    {
     "data": {
      "image/png": "[encoded data removed]",
      "text/plain": [
       "<Figure size 432x288 with 1 Axes>"
      ]
     },
     "metadata": {
      "needs_background": "light"
     },
     "output_type": "display_data"
    }
   ],
   "source": [
    "plt.title(\"Alg. 2 Accuracy VS Auxiliary Set Size\")\n",
    "plt.xlabel(\"Auxiliary Set Size\")\n",
    "plt.ylabel(\"Accuracy\")\n",
    "for i, ratio in enumerate(trainRatios):\n",
    "    plt.scatter(xs[i], ys[i], label = f\"Auxiliary Set Ratio = {ratio}\")\n",
    "plt.grid()\n",
    "plt.legend()\n",
    "plt.savefig(\"plots/alg2AuxSize.png\", dpi = 200)\n",
    "plt.show()"
   ]
  },
  {
   "cell_type": "code",
   "execution_count": 105,
   "metadata": {},
   "outputs": [],
   "source": [
    "'''\n",
    "supportCutoffs = [3, 5, 7, 9]\n",
    "accList = []\n",
    "yieldList = []\n",
    "for supportCutoff in [3, 5, 7, 9]:\n",
    "    accs, yields = getAccYieldCurve(supportCutoff)\n",
    "    accList.append(accs)\n",
    "    yieldList.append(yields)\n",
    "'''"
   ]
  },
  {
   "cell_type": "code",
   "execution_count": 106,
   "metadata": {},
   "outputs": [
    {
     "data": {
      "image/png": "[encoded data removed]",
      "text/plain": [
       "<Figure size 432x288 with 1 Axes>"
      ]
     },
     "metadata": {
      "needs_background": "light"
     },
     "output_type": "display_data"
    }
   ],
   "source": [
    "'''\n",
    "plt.title(\"Alg. 2 Accuracy vs Yield\")\n",
    "plt.xlabel(\"Yield\")\n",
    "plt.ylabel(\"Accuracy\")\n",
    "for i, cutoff in enumerate(supportCutoffs):\n",
    "    plt.plot(yieldList[i], accList[i], label = f\"supportCutoff = {cutoff}\")\n",
    "plt.grid()\n",
    "plt.legend()\n",
    "plt.savefig(\"plots/alg2AccYield.png\", dpi = 200)\n",
    "plt.show()\n",
    "'''"
   ]
  },
  {
   "cell_type": "code",
   "execution_count": 24,
   "metadata": {},
   "outputs": [],
   "source": [
    "movieRanks = dfTest.groupby(\"MovieID\").count()[\"CustomerID\"]\n",
    "movieRanks = movieRanks.reset_index()\n",
    "movieRanks[\"CustomerID\"] = movieRanks[\"CustomerID\"].to_numpy().argsort().argsort()\n",
    "movieRanks = dict(movieRanks.to_numpy())"
   ]
  },
  {
   "cell_type": "code",
   "execution_count": 114,
   "metadata": {},
   "outputs": [
    {
     "data": {
      "text/plain": [
       "8511"
      ]
     },
     "execution_count": 114,
     "metadata": {},
     "output_type": "execute_result"
    }
   ],
   "source": [
    "max(list(movieRanks.values()))"
   ]
  },
  {
   "cell_type": "code",
   "execution_count": 25,
   "metadata": {},
   "outputs": [
    {
     "data": {
      "application/vnd.jupyter.widget-view+json": {
       "model_id": "391f88e9d201482bb379a5bbea06c893",
       "version_major": 2,
       "version_minor": 0
      },
      "text/plain": [
       "HBox(children=(IntProgress(value=0, max=7121), HTML(value='')))"
      ]
     },
     "metadata": {},
     "output_type": "display_data"
    },
    {
     "name": "stdout",
     "output_type": "stream",
     "text": [
      "\n"
     ]
    }
   ],
   "source": [
    "allSolns = []\n",
    "\n",
    "lastUser = None\n",
    "for user, day in tqdm(userPairs):\n",
    "    fullAux = set(dfTrain[dfTrain[\"CustomerID\"] == user][\"MovieID\"])\n",
    "    soln = set(dfTest[(dfTest[\"CustomerID\"] == user) & (dfTest[\"Day\"] == day)][\"MovieID\"])\n",
    "    soln = soln - fullAux\n",
    "    if len(soln) > 0:\n",
    "        allSolns.append((user, day, soln))"
   ]
  },
  {
   "cell_type": "code",
   "execution_count": 26,
   "metadata": {},
   "outputs": [],
   "source": [
    "correctInfDict = defaultdict(set)\n",
    "for movieID, user, day in [(x[2], x[0], x[1]) for x in filteredInf if x[5]]:\n",
    "    correctInfDict[movieID].add((user, day))"
   ]
  },
  {
   "cell_type": "code",
   "execution_count": 27,
   "metadata": {},
   "outputs": [],
   "source": [
    "correct = defaultdict(int)\n",
    "total = defaultdict(int)\n",
    "\n",
    "for user, day, solns in allSolns:\n",
    "    for movieID in solns:\n",
    "        if (user, day) in correctInfDict[movieID]:\n",
    "            correct[movieID] += 1\n",
    "        total[movieID] += 1"
   ]
  },
  {
   "cell_type": "code",
   "execution_count": 28,
   "metadata": {},
   "outputs": [],
   "source": [
    "probs = []\n",
    "\n",
    "for movieID in total.keys():\n",
    "    probs.append((movieRanks[movieID], correct[movieID] / total[movieID]))\n",
    "    \n",
    "probs = sorted(probs, key = lambda x: x[0])"
   ]
  },
  {
   "cell_type": "code",
   "execution_count": 29,
   "metadata": {},
   "outputs": [],
   "source": [
    "xs = []\n",
    "ys = []\n",
    "counter = 0\n",
    "sampleRate = 80\n",
    "\n",
    "currRanks = []\n",
    "currProbs = []\n",
    "for rank, prob in probs:\n",
    "    currRanks.append(rank)\n",
    "    currProbs.append(prob)\n",
    "    counter += 1\n",
    "    if counter == sampleRate:\n",
    "        counter = 0\n",
    "        xs.append(np.mean(currRanks))\n",
    "        ys.append(np.mean(currProbs))\n",
    "        currRanks = []\n",
    "        currProbs = []"
   ]
  },
  {
   "cell_type": "code",
   "execution_count": 30,
   "metadata": {},
   "outputs": [
    {
     "data": {
      "image/png": "[encoded data removed]",
      "text/plain": [
       "<Figure size 432x288 with 1 Axes>"
      ]
     },
     "metadata": {
      "needs_background": "light"
     },
     "output_type": "display_data"
    }
   ],
   "source": [
    "plt.title(\"Alg. 2 Probability of Inference vs Movie Popularity\")\n",
    "plt.xlabel(\"Movie Popularity\")\n",
    "plt.ylabel(\"Probability of Inference\")\n",
    "plt.xscale('log')\n",
    "plt.plot(xs, ys)\n",
    "plt.grid()\n",
    "plt.savefig(\"plots/alg2Pop.png\", dpi = 200)\n",
    "plt.show()"
   ]
  },
  {
   "cell_type": "code",
   "execution_count": null,
   "metadata": {},
   "outputs": [],
   "source": []
  }
 ],
 "metadata": {
  "kernelspec": {
   "display_name": "Python 3",
   "language": "python",
   "name": "python3"
  },
  "language_info": {
   "codemirror_mode": {
    "name": "ipython",
    "version": 3
   },
   "file_extension": ".py",
   "mimetype": "text/x-python",
   "name": "python",
   "nbconvert_exporter": "python",
   "pygments_lexer": "ipython3",
   "version": "3.7.4"
  }
 },
 "nbformat": 4,
 "nbformat_minor": 2
}
