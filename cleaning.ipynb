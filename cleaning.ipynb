{
 "cells": [
  {
   "cell_type": "markdown",
   "metadata": {},
   "source": [
    "# MS&E 234 Project\n",
    "\n",
    "### Data cleaning"
   ]
  },
  {
   "cell_type": "code",
   "execution_count": 1,
   "metadata": {},
   "outputs": [],
   "source": [
    "import pandas as pd\n",
    "import numpy as np\n",
    "import re\n",
    "from random import sample\n",
    "import os\n",
    "import itertools\n",
    "from collections import defaultdict\n",
    "from tqdm.notebook import tqdm\n",
    "import json"
   ]
  },
  {
   "cell_type": "markdown",
   "metadata": {},
   "source": [
    "### Load data"
   ]
  },
  {
   "cell_type": "code",
   "execution_count": 2,
   "metadata": {},
   "outputs": [
    {
     "data": {
      "text/html": [
       "<div>\n",
       "<style scoped>\n",
       "    .dataframe tbody tr th:only-of-type {\n",
       "        vertical-align: middle;\n",
       "    }\n",
       "\n",
       "    .dataframe tbody tr th {\n",
       "        vertical-align: top;\n",
       "    }\n",
       "\n",
       "    .dataframe thead th {\n",
       "        text-align: right;\n",
       "    }\n",
       "</style>\n",
       "<table border=\"1\" class=\"dataframe\">\n",
       "  <thead>\n",
       "    <tr style=\"text-align: right;\">\n",
       "      <th></th>\n",
       "      <th>CustomerID</th>\n",
       "      <th>Rating</th>\n",
       "      <th>Date</th>\n",
       "    </tr>\n",
       "  </thead>\n",
       "  <tbody>\n",
       "    <tr>\n",
       "      <th>0</th>\n",
       "      <td>1:</td>\n",
       "      <td>NaN</td>\n",
       "      <td>NaN</td>\n",
       "    </tr>\n",
       "    <tr>\n",
       "      <th>1</th>\n",
       "      <td>1488844</td>\n",
       "      <td>3.0</td>\n",
       "      <td>2005-09-06</td>\n",
       "    </tr>\n",
       "    <tr>\n",
       "      <th>2</th>\n",
       "      <td>822109</td>\n",
       "      <td>5.0</td>\n",
       "      <td>2005-05-13</td>\n",
       "    </tr>\n",
       "    <tr>\n",
       "      <th>3</th>\n",
       "      <td>885013</td>\n",
       "      <td>4.0</td>\n",
       "      <td>2005-10-19</td>\n",
       "    </tr>\n",
       "    <tr>\n",
       "      <th>4</th>\n",
       "      <td>30878</td>\n",
       "      <td>4.0</td>\n",
       "      <td>2005-12-26</td>\n",
       "    </tr>\n",
       "    <tr>\n",
       "      <th>...</th>\n",
       "      <td>...</td>\n",
       "      <td>...</td>\n",
       "      <td>...</td>\n",
       "    </tr>\n",
       "    <tr>\n",
       "      <th>26851921</th>\n",
       "      <td>1790158</td>\n",
       "      <td>4.0</td>\n",
       "      <td>2005-11-01</td>\n",
       "    </tr>\n",
       "    <tr>\n",
       "      <th>26851922</th>\n",
       "      <td>1608708</td>\n",
       "      <td>3.0</td>\n",
       "      <td>2005-07-19</td>\n",
       "    </tr>\n",
       "    <tr>\n",
       "      <th>26851923</th>\n",
       "      <td>234275</td>\n",
       "      <td>1.0</td>\n",
       "      <td>2004-08-07</td>\n",
       "    </tr>\n",
       "    <tr>\n",
       "      <th>26851924</th>\n",
       "      <td>255278</td>\n",
       "      <td>4.0</td>\n",
       "      <td>2004-05-28</td>\n",
       "    </tr>\n",
       "    <tr>\n",
       "      <th>26851925</th>\n",
       "      <td>453585</td>\n",
       "      <td>2.0</td>\n",
       "      <td>2005-03-10</td>\n",
       "    </tr>\n",
       "  </tbody>\n",
       "</table>\n",
       "<p>100498277 rows × 3 columns</p>\n",
       "</div>"
      ],
      "text/plain": [
       "         CustomerID  Rating        Date\n",
       "0                1:     NaN         NaN\n",
       "1           1488844     3.0  2005-09-06\n",
       "2            822109     5.0  2005-05-13\n",
       "3            885013     4.0  2005-10-19\n",
       "4             30878     4.0  2005-12-26\n",
       "...             ...     ...         ...\n",
       "26851921    1790158     4.0  2005-11-01\n",
       "26851922    1608708     3.0  2005-07-19\n",
       "26851923     234275     1.0  2004-08-07\n",
       "26851924     255278     4.0  2004-05-28\n",
       "26851925     453585     2.0  2005-03-10\n",
       "\n",
       "[100498277 rows x 3 columns]"
      ]
     },
     "execution_count": 2,
     "metadata": {},
     "output_type": "execute_result"
    }
   ],
   "source": [
    "df_raw = pd.DataFrame()\n",
    "path = os.getcwd()\n",
    "for i in range(1, 4+1):\n",
    "    df_raw = pd.concat([df_raw, pd.read_csv(f'{path}/netflix-prize-kaggle-data/combined_data_{i}.txt',\n",
    "        header=None,\n",
    "        names=['CustomerID', 'Rating', 'Date'])])\n",
    "\n",
    "df_raw"
   ]
  },
  {
   "cell_type": "markdown",
   "metadata": {},
   "source": [
    "### Subset data as in paper (Calandrino 2011)"
   ]
  },
  {
   "cell_type": "code",
   "execution_count": 3,
   "metadata": {},
   "outputs": [
    {
     "name": "stdout",
     "output_type": "stream",
     "text": [
      "Entire dataset: 100498277 ratings; 497959 users\n",
      "Subset of 10000 users: 2036327 ratings; 10000 users\n",
      "After making 50% private: 991486 ratings; 9984 users\n",
      "Filter for users with >= 100 public transactions: 759010 ratings; 2971 users\n",
      "Only July 2005: 29960 ratings; 1858 users\n"
     ]
    }
   ],
   "source": [
    "df = df_raw\n",
    "print(f'Entire dataset: {df.shape[0]} ratings; {df.CustomerID.nunique()} users')\n",
    "\n",
    "# Sample 10000 users\n",
    "df = df[df['CustomerID'].isin(sample(df['CustomerID'].unique().tolist(), 10000))]\n",
    "print(f\"Subset of 10000 users: {df.shape[0]} ratings; {df['CustomerID'].nunique()} users\")\n",
    "\n",
    "# Assume each user makes a random 50% of transactions public\n",
    "idxs = df[['CustomerID']].reset_index().groupby('CustomerID').agg({'index':lambda x: list(x)}).to_numpy().tolist()\n",
    "drop_idxs = []\n",
    "for i in range(len(idxs)):\n",
    "    drop_idxs.append(sample(idxs[i][0], len(idxs[i][0]) // 2))\n",
    "drop_idxs = list(itertools.chain(*drop_idxs))\n",
    "df = df.drop(drop_idxs)\n",
    "print(f'After making 50% private: {df.shape[0]} ratings; {df.CustomerID.nunique()} users')\n",
    "\n",
    "# Only consider users with at least 100 public transactions\n",
    "df = df[df['CustomerID'].isin(df['CustomerID'].value_counts()[df['CustomerID'].value_counts() > 100].index)]\n",
    "print(f'Filter for users with >= 100 public transactions: {df.shape[0]} ratings; {df.CustomerID.nunique()} users')\n",
    "\n",
    "# Subset the data to analyze only ratings from July 2005\n",
    "df = df[df['Date'].apply(lambda x: type(x) == str and bool(re.match(r'2005-07.*', x)))]\n",
    "print(f'Only July 2005: {df.shape[0]} ratings; {df[\"CustomerID\"].nunique()} users')"
   ]
  },
  {
   "cell_type": "code",
   "execution_count": 4,
   "metadata": {},
   "outputs": [
    {
     "data": {
      "text/html": [
       "<div>\n",
       "<style scoped>\n",
       "    .dataframe tbody tr th:only-of-type {\n",
       "        vertical-align: middle;\n",
       "    }\n",
       "\n",
       "    .dataframe tbody tr th {\n",
       "        vertical-align: top;\n",
       "    }\n",
       "\n",
       "    .dataframe thead th {\n",
       "        text-align: right;\n",
       "    }\n",
       "</style>\n",
       "<table border=\"1\" class=\"dataframe\">\n",
       "  <thead>\n",
       "    <tr style=\"text-align: right;\">\n",
       "      <th></th>\n",
       "      <th>CustomerID</th>\n",
       "      <th>Rating</th>\n",
       "      <th>Date</th>\n",
       "    </tr>\n",
       "  </thead>\n",
       "  <tbody>\n",
       "    <tr>\n",
       "      <th>1364</th>\n",
       "      <td>2369855</td>\n",
       "      <td>4.0</td>\n",
       "      <td>2005-07-13</td>\n",
       "    </tr>\n",
       "    <tr>\n",
       "      <th>3194</th>\n",
       "      <td>501823</td>\n",
       "      <td>5.0</td>\n",
       "      <td>2005-07-10</td>\n",
       "    </tr>\n",
       "    <tr>\n",
       "      <th>4052</th>\n",
       "      <td>1504575</td>\n",
       "      <td>2.0</td>\n",
       "      <td>2005-07-22</td>\n",
       "    </tr>\n",
       "    <tr>\n",
       "      <th>4856</th>\n",
       "      <td>1333911</td>\n",
       "      <td>4.0</td>\n",
       "      <td>2005-07-19</td>\n",
       "    </tr>\n",
       "    <tr>\n",
       "      <th>6009</th>\n",
       "      <td>1987812</td>\n",
       "      <td>3.0</td>\n",
       "      <td>2005-07-11</td>\n",
       "    </tr>\n",
       "    <tr>\n",
       "      <th>...</th>\n",
       "      <td>...</td>\n",
       "      <td>...</td>\n",
       "      <td>...</td>\n",
       "    </tr>\n",
       "    <tr>\n",
       "      <th>26830900</th>\n",
       "      <td>403590</td>\n",
       "      <td>4.0</td>\n",
       "      <td>2005-07-15</td>\n",
       "    </tr>\n",
       "    <tr>\n",
       "      <th>26838254</th>\n",
       "      <td>891357</td>\n",
       "      <td>5.0</td>\n",
       "      <td>2005-07-30</td>\n",
       "    </tr>\n",
       "    <tr>\n",
       "      <th>26838922</th>\n",
       "      <td>2002963</td>\n",
       "      <td>3.0</td>\n",
       "      <td>2005-07-16</td>\n",
       "    </tr>\n",
       "    <tr>\n",
       "      <th>26846406</th>\n",
       "      <td>2260860</td>\n",
       "      <td>3.0</td>\n",
       "      <td>2005-07-14</td>\n",
       "    </tr>\n",
       "    <tr>\n",
       "      <th>26846480</th>\n",
       "      <td>2134424</td>\n",
       "      <td>2.0</td>\n",
       "      <td>2005-07-07</td>\n",
       "    </tr>\n",
       "  </tbody>\n",
       "</table>\n",
       "<p>29960 rows × 3 columns</p>\n",
       "</div>"
      ],
      "text/plain": [
       "         CustomerID  Rating        Date\n",
       "1364        2369855     4.0  2005-07-13\n",
       "3194         501823     5.0  2005-07-10\n",
       "4052        1504575     2.0  2005-07-22\n",
       "4856        1333911     4.0  2005-07-19\n",
       "6009        1987812     3.0  2005-07-11\n",
       "...             ...     ...         ...\n",
       "26830900     403590     4.0  2005-07-15\n",
       "26838254     891357     5.0  2005-07-30\n",
       "26838922    2002963     3.0  2005-07-16\n",
       "26846406    2260860     3.0  2005-07-14\n",
       "26846480    2134424     2.0  2005-07-07\n",
       "\n",
       "[29960 rows x 3 columns]"
      ]
     },
     "execution_count": 4,
     "metadata": {},
     "output_type": "execute_result"
    }
   ],
   "source": [
    "df"
   ]
  },
  {
   "cell_type": "markdown",
   "metadata": {},
   "source": [
    "### TODO - Mac Comments"
   ]
  },
  {
   "cell_type": "code",
   "execution_count": null,
   "metadata": {},
   "outputs": [],
   "source": [
    "# Sanity check: there are ~1570 such users\n",
    "# Sanity check: there are around 1510 transactions during the period in question \n",
    "\n",
    "# TODO there are way more transactions - how do we get only ~1 transaction per user per month, \n",
    "# when we are filtering for users that recommend many movies? Seems plausible that these users are \n",
    "# making ~20 transactions/month...\n",
    "\n",
    "# Restrict the attack to (customer, date) pairs in which the customer made 5 or fewer transactions: \n",
    "# TODO I think this means only compute prediction accuracy on these pairs, rather than removing them before training"
   ]
  },
  {
   "cell_type": "code",
   "execution_count": 5,
   "metadata": {},
   "outputs": [
    {
     "data": {
      "text/plain": [
       "CustomerID        0\n",
       "Rating        17770\n",
       "Date          17770\n",
       "dtype: int64"
      ]
     },
     "execution_count": 5,
     "metadata": {},
     "output_type": "execute_result"
    }
   ],
   "source": [
    "# na's represent the number of movies in the dataset\n",
    "df_raw.isna().sum()"
   ]
  },
  {
   "cell_type": "code",
   "execution_count": 6,
   "metadata": {},
   "outputs": [],
   "source": [
    "# extract movie ID's from raw data, combine these with df\n",
    "# The data files follow the following format:\n",
    "# Movie ID:\n",
    "# CustomerID, Rating, Date\n",
    "# ...\n",
    "\n",
    "movieDF = df_raw[df_raw['Rating'].isnull()]"
   ]
  },
  {
   "cell_type": "code",
   "execution_count": 7,
   "metadata": {},
   "outputs": [],
   "source": [
    "# simulate recommendation system with full knowledge of July's activity\n",
    "july_data = df_raw[df_raw['Date'].apply(lambda x: type(x) == str and bool(re.match(r'2005-07.*', x)))]"
   ]
  },
  {
   "cell_type": "code",
   "execution_count": 8,
   "metadata": {},
   "outputs": [],
   "source": [
    "movieRows = np.array(movieDF.index)\n",
    "movieIDs = []\n",
    "currIdx = 0\n",
    "for row in july_data.itertuples(index = True, name = 'Pandas'):\n",
    "    currRow = row.Index\n",
    "    while currIdx < len(movieRows) - 1:\n",
    "        nextMovieRow = movieRows[currIdx + 1]\n",
    "        if currRow > nextMovieRow:\n",
    "            currIdx += 1\n",
    "        else:\n",
    "            break\n",
    "    movieIDs.append(currIdx + 1) # since index of movie IDs starts at 1"
   ]
  },
  {
   "cell_type": "code",
   "execution_count": 9,
   "metadata": {},
   "outputs": [
    {
     "name": "stderr",
     "output_type": "stream",
     "text": [
      "/var/folders/7n/3vnqtv9j7pq_171byptgfl_00000gn/T/ipykernel_14517/1991809384.py:1: SettingWithCopyWarning: \n",
      "A value is trying to be set on a copy of a slice from a DataFrame.\n",
      "Try using .loc[row_indexer,col_indexer] = value instead\n",
      "\n",
      "See the caveats in the documentation: https://pandas.pydata.org/pandas-docs/stable/user_guide/indexing.html#returning-a-view-versus-a-copy\n",
      "  july_data['MovieIDs'] = movieIDs\n",
      "/var/folders/7n/3vnqtv9j7pq_171byptgfl_00000gn/T/ipykernel_14517/1991809384.py:2: SettingWithCopyWarning: \n",
      "A value is trying to be set on a copy of a slice from a DataFrame.\n",
      "Try using .loc[row_indexer,col_indexer] = value instead\n",
      "\n",
      "See the caveats in the documentation: https://pandas.pydata.org/pandas-docs/stable/user_guide/indexing.html#returning-a-view-versus-a-copy\n",
      "  july_data['Day'] = pd.DatetimeIndex(july_data['Date']).day\n"
     ]
    }
   ],
   "source": [
    "july_data['MovieIDs'] = movieIDs\n",
    "july_data['Day'] = pd.DatetimeIndex(july_data['Date']).day"
   ]
  },
  {
   "cell_type": "code",
   "execution_count": 11,
   "metadata": {},
   "outputs": [],
   "source": [
    "# input: 2 sets x, y\n",
    "# output: for binary vectors x and y: cosine similarity = |x and y| / sqrt(|x||y|)\n",
    "def getCosSim(x, y):\n",
    "    return len(x.intersection(y)) / np.sqrt(len(x) * len(y))"
   ]
  },
  {
   "cell_type": "code",
   "execution_count": 12,
   "metadata": {},
   "outputs": [],
   "source": [
    "# input: sparse binary adjList\n",
    "# output: dict of the 50 most similar items and scores, in format: dict[movieID] => ([(items, scores)])\n",
    "def getSimListDaily(adjList):\n",
    "    simList = {}\n",
    "    for key1 in adjList.keys():\n",
    "        cosSims = []\n",
    "        for key2 in adjList.keys():\n",
    "            if key1 == key2:\n",
    "                continue\n",
    "            cosSim = getCosSim(adjList[key1], adjList[key2])\n",
    "            cosSims.append((key2, cosSim))\n",
    "        simList[key1] = sorted(cosSims, key = lambda x: (-x[1], x[0]))[:50]\n",
    "    return simList"
   ]
  },
  {
   "cell_type": "code",
   "execution_count": 13,
   "metadata": {},
   "outputs": [],
   "source": [
    "# input: dataframe of customerIDs, Ratings, Day of Month, and MovieIDs\n",
    "# input dataframe should contain both public and private data, as the recc system uses all available information\n",
    "# output: list of 50 related movies and similarity ratings per day\n",
    "# on each consecutive day, more data is used by the recc system\n",
    "# uses cosine similarity on a binary matrix\n",
    "def getSimListMonthly(df):\n",
    "    # store binary matrix in sparse adjacency list format\n",
    "    # adjList[movieID] => set of customerIDs\n",
    "    adjList = defaultdict(set)\n",
    "    \n",
    "    simLists = []\n",
    "    \n",
    "    for day in sorted(df[\"Day\"].unique()):\n",
    "        # add new movies from today to adjList\n",
    "        currDF = df[df[\"Day\"] == day]\n",
    "        for row in currDF.itertuples(index = True, name = 'Pandas'):\n",
    "            adjList[row.MovieID].add(row.CustomerID)\n",
    "        \n",
    "        # compute similarity scores\n",
    "        currSimList = getSimListDaily(adjList)\n",
    "        simLists.append(currSimList)\n",
    "    return simLists"
   ]
  },
  {
   "cell_type": "code",
   "execution_count": null,
   "metadata": {},
   "outputs": [],
   "source": [
    "# generates the similarity lists for all movies in July\n",
    "# saves list to a JSON file for easy use\n",
    "\n",
    "'''simLists = getSimListMonthly(july_data)\n",
    "simListsFile = 'july_simLists.json'\n",
    "with open(f'{path}/{simListsFile}', 'w+') as rec_sys:\n",
    "    json.dump(simLists, rec_sys)'''"
   ]
  },
  {
   "cell_type": "code",
   "execution_count": 38,
   "metadata": {},
   "outputs": [],
   "source": [
    "# reads JSON file with similarity lists for all movies in July\n",
    "sim_list_file = 'july_simLists.json'\n",
    "july_sim_list = []\n",
    "with open(f'{path}/{sim_list_file}', 'r') as rec_sys:\n",
    "    july_sim_list = json.load(rec_sys, parse_int=int)\n",
    "\n",
    "# converts string JSON keys to ints (JSON format saves all keys as strings)\n",
    "for day in range(len(july_sim_list)):\n",
    "    july_sim_list[day] = {int(k):[tuple(i) for i in v] for k,v in july_sim_list[day].items()}"
   ]
  },
  {
   "cell_type": "code",
   "execution_count": 39,
   "metadata": {},
   "outputs": [
    {
     "data": {
      "text/plain": [
       "[(2721, 0.10314212462587934),\n",
       " (2625, 0.0842151921066519),\n",
       " (4082, 0.0842151921066519),\n",
       " (355, 0.07293249574894728),\n",
       " (3907, 0.07293249574894728)]"
      ]
     },
     "execution_count": 39,
     "metadata": {},
     "output_type": "execute_result"
    }
   ],
   "source": [
    "# shows the top 5 movies related to movie id (second value) on the last day of July 2005\n",
    "july_sim_list[30][2][0:5]"
   ]
  },
  {
   "cell_type": "markdown",
   "metadata": {},
   "source": [
    "## Part 3: Inference Algorithm"
   ]
  },
  {
   "cell_type": "markdown",
   "metadata": {},
   "source": [
    "### Questions, TODOs, Comments"
   ]
  },
  {
   "cell_type": "code",
   "execution_count": null,
   "metadata": {},
   "outputs": [],
   "source": [
    "user_inferences = {}\n",
    "observation_window = 1"
   ]
  },
  {
   "cell_type": "code",
   "execution_count": null,
   "metadata": {},
   "outputs": [],
   "source": [
    "# generate list of unique user ids\n",
    "users = df['CustomerID'].unique()\n",
    "for user in users:\n",
    "    auxiliary_info = df[df['CustomerID'] == user]['MovieID'].unique()"
   ]
  },
  {
   "cell_type": "markdown",
   "metadata": {},
   "source": [
    "### TODO - Viet Comments 2/27\n",
    "\n",
    "added code to add movieIDs to df\n",
    "\n",
    "wrote code to generate daily top 50 cosine similarities + scores\n",
    "\n",
    "regarding Mac's comment: \n",
    "\"Sanity check: there are around 1510 transactions during the period in question\"\n",
    "\"TODO there are way more transactions - how do we get only ~1 transaction per user per month, \n",
    "when we are filtering for users that recommend many movies? Seems plausible that these users are making ~20 transactions/month...\"\n",
    "\n",
    "I think the paper made a mistake - there are ~ 35K transactions per month, maybe the 1.5K is referring to daily transactions? I am getting 6.4K (customer, date) pairs.\n",
    "\n",
    "# for whoever is generating the plots: make sure the train and test sets are properly built.\n",
    "\n",
    "currently the df generated removes 50% of entries.\n",
    "\n",
    "When generating the similarity lists, we want to keep 100% of entries.\n",
    "\n",
    "When making predictions, we get to look at 50% of entries."
   ]
  },
  {
   "cell_type": "code",
   "execution_count": null,
   "metadata": {},
   "outputs": [],
   "source": [
    "df.groupby([\"CustomerID\", \"Day\"]).sum()"
   ]
  },
  {
   "cell_type": "code",
   "execution_count": null,
   "metadata": {},
   "outputs": [],
   "source": []
  }
 ],
 "metadata": {
  "kernelspec": {
   "display_name": "Python 3",
   "language": "python",
   "name": "python3"
  },
  "language_info": {
   "codemirror_mode": {
    "name": "ipython",
    "version": 3
   },
   "file_extension": ".py",
   "mimetype": "text/x-python",
   "name": "python",
   "nbconvert_exporter": "python",
   "pygments_lexer": "ipython3",
   "version": "3.9.9"
  }
 },
 "nbformat": 4,
 "nbformat_minor": 2
}
