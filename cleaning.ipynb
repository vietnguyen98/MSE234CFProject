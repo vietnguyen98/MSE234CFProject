{
 "cells": [
  {
   "cell_type": "markdown",
   "metadata": {},
   "source": [
    "# MS&E 234 Project\n",
    "\n",
    "### Data cleaning"
   ]
  },
  {
   "cell_type": "code",
   "execution_count": 1,
   "metadata": {},
   "outputs": [],
   "source": [
    "import pandas as pd\n",
    "import numpy as np\n",
    "import re\n",
    "from random import sample\n",
    "import itertools\n",
    "from collections import defaultdict\n",
    "from tqdm.notebook import tqdm\n",
    "import pickle"
   ]
  },
  {
   "cell_type": "markdown",
   "metadata": {},
   "source": [
    "### Load data"
   ]
  },
  {
   "cell_type": "code",
   "execution_count": 2,
   "metadata": {},
   "outputs": [
    {
     "data": {
      "text/html": [
       "<div>\n",
       "<style scoped>\n",
       "    .dataframe tbody tr th:only-of-type {\n",
       "        vertical-align: middle;\n",
       "    }\n",
       "\n",
       "    .dataframe tbody tr th {\n",
       "        vertical-align: top;\n",
       "    }\n",
       "\n",
       "    .dataframe thead th {\n",
       "        text-align: right;\n",
       "    }\n",
       "</style>\n",
       "<table border=\"1\" class=\"dataframe\">\n",
       "  <thead>\n",
       "    <tr style=\"text-align: right;\">\n",
       "      <th></th>\n",
       "      <th>CustomerID</th>\n",
       "      <th>Rating</th>\n",
       "      <th>Date</th>\n",
       "    </tr>\n",
       "  </thead>\n",
       "  <tbody>\n",
       "    <tr>\n",
       "      <td>0</td>\n",
       "      <td>1:</td>\n",
       "      <td>NaN</td>\n",
       "      <td>NaN</td>\n",
       "    </tr>\n",
       "    <tr>\n",
       "      <td>1</td>\n",
       "      <td>1488844</td>\n",
       "      <td>3.0</td>\n",
       "      <td>2005-09-06</td>\n",
       "    </tr>\n",
       "    <tr>\n",
       "      <td>2</td>\n",
       "      <td>822109</td>\n",
       "      <td>5.0</td>\n",
       "      <td>2005-05-13</td>\n",
       "    </tr>\n",
       "    <tr>\n",
       "      <td>3</td>\n",
       "      <td>885013</td>\n",
       "      <td>4.0</td>\n",
       "      <td>2005-10-19</td>\n",
       "    </tr>\n",
       "    <tr>\n",
       "      <td>4</td>\n",
       "      <td>30878</td>\n",
       "      <td>4.0</td>\n",
       "      <td>2005-12-26</td>\n",
       "    </tr>\n",
       "    <tr>\n",
       "      <td>...</td>\n",
       "      <td>...</td>\n",
       "      <td>...</td>\n",
       "      <td>...</td>\n",
       "    </tr>\n",
       "    <tr>\n",
       "      <td>100498272</td>\n",
       "      <td>1790158</td>\n",
       "      <td>4.0</td>\n",
       "      <td>2005-11-01</td>\n",
       "    </tr>\n",
       "    <tr>\n",
       "      <td>100498273</td>\n",
       "      <td>1608708</td>\n",
       "      <td>3.0</td>\n",
       "      <td>2005-07-19</td>\n",
       "    </tr>\n",
       "    <tr>\n",
       "      <td>100498274</td>\n",
       "      <td>234275</td>\n",
       "      <td>1.0</td>\n",
       "      <td>2004-08-07</td>\n",
       "    </tr>\n",
       "    <tr>\n",
       "      <td>100498275</td>\n",
       "      <td>255278</td>\n",
       "      <td>4.0</td>\n",
       "      <td>2004-05-28</td>\n",
       "    </tr>\n",
       "    <tr>\n",
       "      <td>100498276</td>\n",
       "      <td>453585</td>\n",
       "      <td>2.0</td>\n",
       "      <td>2005-03-10</td>\n",
       "    </tr>\n",
       "  </tbody>\n",
       "</table>\n",
       "<p>100498277 rows × 3 columns</p>\n",
       "</div>"
      ],
      "text/plain": [
       "          CustomerID  Rating        Date\n",
       "0                 1:     NaN         NaN\n",
       "1            1488844     3.0  2005-09-06\n",
       "2             822109     5.0  2005-05-13\n",
       "3             885013     4.0  2005-10-19\n",
       "4              30878     4.0  2005-12-26\n",
       "...              ...     ...         ...\n",
       "100498272    1790158     4.0  2005-11-01\n",
       "100498273    1608708     3.0  2005-07-19\n",
       "100498274     234275     1.0  2004-08-07\n",
       "100498275     255278     4.0  2004-05-28\n",
       "100498276     453585     2.0  2005-03-10\n",
       "\n",
       "[100498277 rows x 3 columns]"
      ]
     },
     "execution_count": 2,
     "metadata": {},
     "output_type": "execute_result"
    }
   ],
   "source": [
    "df_raw = pd.DataFrame()\n",
    "for i in range(1, 4+1):\n",
    "    df_raw = pd.concat([df_raw, pd.read_csv(f'../netflix-prize-kaggle-data/combined_data_{i}.txt',\n",
    "        header=None,\n",
    "        names=['CustomerID', 'Rating', 'Date'])])\n",
    "df_raw = df_raw.reset_index(drop = True)\n",
    "df_raw"
   ]
  },
  {
   "cell_type": "markdown",
   "metadata": {},
   "source": [
    "### Subset data as in paper (Calandrino 2011)"
   ]
  },
  {
   "cell_type": "code",
   "execution_count": 3,
   "metadata": {},
   "outputs": [],
   "source": [
    "def buildDataset(df, userList, train):\n",
    "    print(\"Entire dataset: 100498277 ratings; 480189 users\")\n",
    "    # Sample 10000 users\n",
    "    df = df[df['CustomerID'].isin(userList)]\n",
    "    print(f\"Subset of 10000 users: {df.shape[0]} ratings; {df['CustomerID'].nunique()} users\")\n",
    "\n",
    "    if train:\n",
    "        # Assume each user makes a random 50% of transactions public\n",
    "        idxs = df[['CustomerID']].reset_index().groupby('CustomerID').agg({'index':lambda x: list(x)}).to_numpy().tolist()\n",
    "        drop_idxs = []\n",
    "        for i in range(len(idxs)):\n",
    "            drop_idxs.append(sample(idxs[i][0], len(idxs[i][0]) // 2))\n",
    "        drop_idxs = list(itertools.chain(*drop_idxs))\n",
    "        df = df.drop(drop_idxs)\n",
    "        print(f'After making 50% private: {df.shape[0]} ratings; {df.CustomerID.nunique()} users')\n",
    "\n",
    "        # Only consider users with at least 100 public transactions\n",
    "        df = df[df['CustomerID'].isin(df['CustomerID'].value_counts()[df['CustomerID'].value_counts() > 100].index)]\n",
    "        print(f'Filter for users with >= 100 public transactions: {df.shape[0]} ratings; {df.CustomerID.nunique()} users')\n",
    "\n",
    "    # Subset the data to analyze only ratings from July 2005\n",
    "    df = df[df['Date'].apply(lambda x: type(x) == str and bool(re.match(r'2005-07.*', x)))]\n",
    "    print(f'Only July 2005: {df.shape[0]} ratings; {df[\"CustomerID\"].nunique()} users')\n",
    "          \n",
    "    return df"
   ]
  },
  {
   "cell_type": "code",
   "execution_count": 4,
   "metadata": {},
   "outputs": [],
   "source": [
    "# extract movie ID's from raw data, combine these with df\n",
    "# The data files follow the following format:\n",
    "# Movie ID:\n",
    "# CustomerID, Rating, Date\n",
    "# ...\n",
    "\n",
    "def addMovieInfo(df, movieDF):\n",
    "    movieRows = np.array(movieDF.index)\n",
    "    movieIDs = []\n",
    "    currIdx = 0\n",
    "    for row in df.itertuples(index = True, name = 'Pandas'):\n",
    "        currRow = row.Index\n",
    "        while currIdx < len(movieRows) - 1:\n",
    "            nextMovieRow = movieRows[currIdx + 1]\n",
    "            if currRow > nextMovieRow:\n",
    "                currIdx += 1\n",
    "            else:\n",
    "                break\n",
    "        movieIDs.append(currIdx)\n",
    "    df[\"MovieID\"] = movieIDs\n",
    "    df['Day'] = pd.DatetimeIndex(df['Date']).day\n",
    "    return df"
   ]
  },
  {
   "cell_type": "code",
   "execution_count": 5,
   "metadata": {},
   "outputs": [],
   "source": [
    "# input: 2 sets x, y\n",
    "# output: for binary vectors x and y: cosine similarity = |x and y| / sqrt(|x||y|)\n",
    "def getCosSim(x, y):\n",
    "    return len(x.intersection(y)) / np.sqrt(len(x) * len(y))"
   ]
  },
  {
   "cell_type": "code",
   "execution_count": 6,
   "metadata": {},
   "outputs": [],
   "source": [
    "# input: sparse binary adjList\n",
    "# output: dict of the 50 most similar items and scores, in format: dict[movieID] => ([(items, scores)])\n",
    "def getSimListDaily(adjList):\n",
    "    simList = {}\n",
    "    for key1 in adjList.keys():\n",
    "        cosSims = []\n",
    "        for key2 in adjList.keys():\n",
    "            if key1 == key2:\n",
    "                continue\n",
    "            cosSim = getCosSim(adjList[key1], adjList[key2])\n",
    "            cosSims.append((key2, cosSim))\n",
    "        simList[key1] = sorted(cosSims, key = lambda x: (-x[1], x[0]))[:50]\n",
    "    return simList"
   ]
  },
  {
   "cell_type": "code",
   "execution_count": 7,
   "metadata": {},
   "outputs": [],
   "source": [
    "# input: dataframe of customerIDs, Ratings, Day of Month, and MovieIDs\n",
    "# input dataframe should contain both public and private data, as the recc system uses all available information\n",
    "# output: list of 50 related movies and similarity ratings per day\n",
    "# on each consecutive day, more data is used by the recc system\n",
    "# uses cosine similarity on a binary matrix\n",
    "def getSimListMonthly(df):\n",
    "    # store binary matrix in sparse adjacency list format\n",
    "    # adjList[movieID] => set of customerIDs\n",
    "    adjList = defaultdict(set)\n",
    "    \n",
    "    simLists = []\n",
    "    \n",
    "    for day in tqdm(sorted(df[\"Day\"].unique())):\n",
    "        # add new movies from today to adjList\n",
    "        currDF = df[df[\"Day\"] == day]\n",
    "        for row in currDF.itertuples(index = True, name = 'Pandas'):\n",
    "            adjList[row.MovieID].add(row.CustomerID)\n",
    "        \n",
    "        # compute similarity scores\n",
    "        currSimList = getSimListDaily(adjList)\n",
    "        simLists.append(currSimList)\n",
    "    return simLists"
   ]
  },
  {
   "cell_type": "code",
   "execution_count": null,
   "metadata": {},
   "outputs": [],
   "source": [
    "movieDF = df_raw[df_raw['Rating'].isnull()]\n",
    "userList = sample(df_raw.dropna()['CustomerID'].unique().tolist(), 10000)\n",
    "dfTrain = buildDataset(df_raw, userList, train = True)\n",
    "dfTrain = addMovieInfo(dfTrain, movieDF)\n",
    "dfTest = buildDataset(df_raw, userList, train = False)\n",
    "dfTest = addMovieInfo(dfTest, movieDF)\n",
    "dfTrain.to_csv(\"train/Trial1.csv\")\n",
    "dfTest.to_csv(\"test/Trial1.csv\")"
   ]
  },
  {
   "cell_type": "code",
   "execution_count": null,
   "metadata": {},
   "outputs": [],
   "source": [
    "simLists = getSimListMonthly(dfTest)"
   ]
  },
  {
   "cell_type": "code",
   "execution_count": null,
   "metadata": {},
   "outputs": [],
   "source": [
    "fileName = 'simLists/Trial1.pkl'\n",
    "with open(fileName, 'wb') as handle:\n",
    "    pickle.dump(simLists, handle)"
   ]
  },
  {
   "cell_type": "code",
   "execution_count": null,
   "metadata": {},
   "outputs": [],
   "source": [
    "with open(fileName, 'rb') as handle:\n",
    "    simLists = pickle.load(handle)"
   ]
  },
  {
   "cell_type": "code",
   "execution_count": null,
   "metadata": {},
   "outputs": [],
   "source": [
    "dfTrain = pd.read_csv(\"train/Trial1.csv\", index_col = 0)\n",
    "dfTest = pd.read_csv(\"test/Trial1.csv\", index_col = 0)"
   ]
  },
  {
   "cell_type": "code",
   "execution_count": null,
   "metadata": {},
   "outputs": [],
   "source": [
    "df.groupby([\"CustomerID\", \"Day\"]).sum()"
   ]
  },
  {
   "cell_type": "code",
   "execution_count": null,
   "metadata": {},
   "outputs": [],
   "source": [
    "len(simLists[30])"
   ]
  },
  {
   "cell_type": "code",
   "execution_count": null,
   "metadata": {},
   "outputs": [],
   "source": []
  }
 ],
 "metadata": {
  "kernelspec": {
   "display_name": "Python 3",
   "language": "python",
   "name": "python3"
  },
  "language_info": {
   "codemirror_mode": {
    "name": "ipython",
    "version": 3
   },
   "file_extension": ".py",
   "mimetype": "text/x-python",
   "name": "python",
   "nbconvert_exporter": "python",
   "pygments_lexer": "ipython3",
   "version": "3.7.4"
  }
 },
 "nbformat": 4,
 "nbformat_minor": 2
}
