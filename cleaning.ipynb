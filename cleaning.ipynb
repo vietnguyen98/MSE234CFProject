{
 "cells": [
  {
   "cell_type": "markdown",
   "metadata": {},
   "source": [
    "# MS&E 234 Project\n",
    "\n",
    "### Data cleaning"
   ]
  },
  {
   "cell_type": "code",
   "execution_count": 225,
   "metadata": {},
   "outputs": [],
   "source": [
    "import pandas as pd\n",
    "import numpy as np\n",
    "import re\n",
    "from random import sample\n",
    "import itertools\n",
    "from collections import defaultdict, Counter\n",
    "from tqdm.notebook import tqdm\n",
    "import pickle"
   ]
  },
  {
   "cell_type": "markdown",
   "metadata": {},
   "source": [
    "### Load data"
   ]
  },
  {
   "cell_type": "code",
   "execution_count": 2,
   "metadata": {},
   "outputs": [
    {
     "data": {
      "text/html": [
       "<div>\n",
       "<style scoped>\n",
       "    .dataframe tbody tr th:only-of-type {\n",
       "        vertical-align: middle;\n",
       "    }\n",
       "\n",
       "    .dataframe tbody tr th {\n",
       "        vertical-align: top;\n",
       "    }\n",
       "\n",
       "    .dataframe thead th {\n",
       "        text-align: right;\n",
       "    }\n",
       "</style>\n",
       "<table border=\"1\" class=\"dataframe\">\n",
       "  <thead>\n",
       "    <tr style=\"text-align: right;\">\n",
       "      <th></th>\n",
       "      <th>CustomerID</th>\n",
       "      <th>Rating</th>\n",
       "      <th>Date</th>\n",
       "    </tr>\n",
       "  </thead>\n",
       "  <tbody>\n",
       "    <tr>\n",
       "      <td>0</td>\n",
       "      <td>1:</td>\n",
       "      <td>NaN</td>\n",
       "      <td>NaN</td>\n",
       "    </tr>\n",
       "    <tr>\n",
       "      <td>1</td>\n",
       "      <td>1488844</td>\n",
       "      <td>3.0</td>\n",
       "      <td>2005-09-06</td>\n",
       "    </tr>\n",
       "    <tr>\n",
       "      <td>2</td>\n",
       "      <td>822109</td>\n",
       "      <td>5.0</td>\n",
       "      <td>2005-05-13</td>\n",
       "    </tr>\n",
       "    <tr>\n",
       "      <td>3</td>\n",
       "      <td>885013</td>\n",
       "      <td>4.0</td>\n",
       "      <td>2005-10-19</td>\n",
       "    </tr>\n",
       "    <tr>\n",
       "      <td>4</td>\n",
       "      <td>30878</td>\n",
       "      <td>4.0</td>\n",
       "      <td>2005-12-26</td>\n",
       "    </tr>\n",
       "    <tr>\n",
       "      <td>...</td>\n",
       "      <td>...</td>\n",
       "      <td>...</td>\n",
       "      <td>...</td>\n",
       "    </tr>\n",
       "    <tr>\n",
       "      <td>100498272</td>\n",
       "      <td>1790158</td>\n",
       "      <td>4.0</td>\n",
       "      <td>2005-11-01</td>\n",
       "    </tr>\n",
       "    <tr>\n",
       "      <td>100498273</td>\n",
       "      <td>1608708</td>\n",
       "      <td>3.0</td>\n",
       "      <td>2005-07-19</td>\n",
       "    </tr>\n",
       "    <tr>\n",
       "      <td>100498274</td>\n",
       "      <td>234275</td>\n",
       "      <td>1.0</td>\n",
       "      <td>2004-08-07</td>\n",
       "    </tr>\n",
       "    <tr>\n",
       "      <td>100498275</td>\n",
       "      <td>255278</td>\n",
       "      <td>4.0</td>\n",
       "      <td>2004-05-28</td>\n",
       "    </tr>\n",
       "    <tr>\n",
       "      <td>100498276</td>\n",
       "      <td>453585</td>\n",
       "      <td>2.0</td>\n",
       "      <td>2005-03-10</td>\n",
       "    </tr>\n",
       "  </tbody>\n",
       "</table>\n",
       "<p>100498277 rows × 3 columns</p>\n",
       "</div>"
      ],
      "text/plain": [
       "          CustomerID  Rating        Date\n",
       "0                 1:     NaN         NaN\n",
       "1            1488844     3.0  2005-09-06\n",
       "2             822109     5.0  2005-05-13\n",
       "3             885013     4.0  2005-10-19\n",
       "4              30878     4.0  2005-12-26\n",
       "...              ...     ...         ...\n",
       "100498272    1790158     4.0  2005-11-01\n",
       "100498273    1608708     3.0  2005-07-19\n",
       "100498274     234275     1.0  2004-08-07\n",
       "100498275     255278     4.0  2004-05-28\n",
       "100498276     453585     2.0  2005-03-10\n",
       "\n",
       "[100498277 rows x 3 columns]"
      ]
     },
     "execution_count": 2,
     "metadata": {},
     "output_type": "execute_result"
    }
   ],
   "source": [
    "df_raw = pd.DataFrame()\n",
    "for i in range(1, 4+1):\n",
    "    df_raw = pd.concat([df_raw, pd.read_csv(f'../netflix-prize-kaggle-data/combined_data_{i}.txt',\n",
    "        header=None,\n",
    "        names=['CustomerID', 'Rating', 'Date'])])\n",
    "df_raw = df_raw.reset_index(drop = True)\n",
    "df_raw"
   ]
  },
  {
   "cell_type": "markdown",
   "metadata": {},
   "source": [
    "### Subset data as in paper (Calandrino 2011)"
   ]
  },
  {
   "cell_type": "code",
   "execution_count": 3,
   "metadata": {},
   "outputs": [],
   "source": [
    "def buildDataset(df, userList, train):\n",
    "    print(\"Entire dataset: 100498277 ratings; 480189 users\")\n",
    "    # Sample 10000 users\n",
    "    df = df[df['CustomerID'].isin(userList)]\n",
    "    print(f\"Subset of 10000 users: {df.shape[0]} ratings; {df['CustomerID'].nunique()} users\")\n",
    "\n",
    "    if train:\n",
    "        # Assume each user makes a random 50% of transactions public\n",
    "        idxs = df[['CustomerID']].reset_index().groupby('CustomerID').agg({'index':lambda x: list(x)}).to_numpy().tolist()\n",
    "        drop_idxs = []\n",
    "        for i in range(len(idxs)):\n",
    "            drop_idxs.append(sample(idxs[i][0], len(idxs[i][0]) // 2))\n",
    "        drop_idxs = list(itertools.chain(*drop_idxs))\n",
    "        df = df.drop(drop_idxs)\n",
    "        print(f'After making 50% private: {df.shape[0]} ratings; {df.CustomerID.nunique()} users')\n",
    "\n",
    "        # Only consider users with at least 100 public transactions\n",
    "        df = df[df['CustomerID'].isin(df['CustomerID'].value_counts()[df['CustomerID'].value_counts() > 100].index)]\n",
    "        print(f'Filter for users with >= 100 public transactions: {df.shape[0]} ratings; {df.CustomerID.nunique()} users')\n",
    "\n",
    "    # Subset the data to analyze only ratings from July 2005\n",
    "    df = df[df['Date'].apply(lambda x: type(x) == str and bool(re.match(r'2005-07.*', x)))]\n",
    "    print(f'Only July 2005: {df.shape[0]} ratings; {df[\"CustomerID\"].nunique()} users')\n",
    "          \n",
    "    return df"
   ]
  },
  {
   "cell_type": "code",
   "execution_count": 4,
   "metadata": {},
   "outputs": [],
   "source": [
    "# extract movie ID's from raw data, combine these with df\n",
    "# The data files follow the following format:\n",
    "# Movie ID:\n",
    "# CustomerID, Rating, Date\n",
    "# ...\n",
    "\n",
    "def addMovieInfo(df, movieDF):\n",
    "    movieRows = np.array(movieDF.index)\n",
    "    movieIDs = []\n",
    "    currIdx = 0\n",
    "    for row in df.itertuples(index = True, name = 'Pandas'):\n",
    "        currRow = row.Index\n",
    "        while currIdx < len(movieRows) - 1:\n",
    "            nextMovieRow = movieRows[currIdx + 1]\n",
    "            if currRow > nextMovieRow:\n",
    "                currIdx += 1\n",
    "            else:\n",
    "                break\n",
    "        movieIDs.append(currIdx)\n",
    "    df[\"MovieID\"] = movieIDs\n",
    "    df['Day'] = pd.DatetimeIndex(df['Date']).day\n",
    "    return df"
   ]
  },
  {
   "cell_type": "code",
   "execution_count": 5,
   "metadata": {},
   "outputs": [],
   "source": [
    "# input: 2 sets x, y\n",
    "# output: for binary vectors x and y: cosine similarity = |x and y| / sqrt(|x||y|)\n",
    "def getCosSim(x, y):\n",
    "    return len(x.intersection(y)) / np.sqrt(len(x) * len(y))"
   ]
  },
  {
   "cell_type": "code",
   "execution_count": 6,
   "metadata": {},
   "outputs": [],
   "source": [
    "# input: sparse binary adjList\n",
    "# output: dict of the 50 most similar items and scores, in format: dict[movieID] => ([(items, scores)])\n",
    "def getSimListDaily(adjList):\n",
    "    simList = {}\n",
    "    for key1 in adjList.keys():\n",
    "        cosSims = []\n",
    "        for key2 in adjList.keys():\n",
    "            if key1 == key2:\n",
    "                continue\n",
    "            cosSim = getCosSim(adjList[key1], adjList[key2])\n",
    "            cosSims.append((key2, cosSim))\n",
    "        simList[key1] = sorted(cosSims, key = lambda x: (-x[1], x[0]))[:50]\n",
    "    return simList"
   ]
  },
  {
   "cell_type": "code",
   "execution_count": 7,
   "metadata": {},
   "outputs": [],
   "source": [
    "# input: dataframe of customerIDs, Ratings, Day of Month, and MovieIDs\n",
    "# input dataframe should contain both public and private data, as the recc system uses all available information\n",
    "# output: list of 50 related movies and similarity ratings per day\n",
    "# on each consecutive day, more data is used by the recc system\n",
    "# uses cosine similarity on a binary matrix\n",
    "def getSimListMonthly(df):\n",
    "    # store binary matrix in sparse adjacency list format\n",
    "    # adjList[movieID] => set of customerIDs\n",
    "    adjList = defaultdict(set)\n",
    "    \n",
    "    simLists = []\n",
    "    \n",
    "    for day in tqdm(sorted(df[\"Day\"].unique())):\n",
    "        # add new movies from today to adjList\n",
    "        currDF = df[df[\"Day\"] == day]\n",
    "        for row in currDF.itertuples(index = True, name = 'Pandas'):\n",
    "            adjList[row.MovieID].add(row.CustomerID)\n",
    "        \n",
    "        # compute similarity scores\n",
    "        currSimList = getSimListDaily(adjList)\n",
    "        simLists.append(currSimList)\n",
    "    return simLists"
   ]
  },
  {
   "cell_type": "code",
   "execution_count": 8,
   "metadata": {},
   "outputs": [
    {
     "name": "stdout",
     "output_type": "stream",
     "text": [
      "Entire dataset: 100498277 ratings; 480189 users\n",
      "Subset of 10000 users: 2086064 ratings; 10000 users\n",
      "After making 50% private: 1045448 ratings; 10000 users\n",
      "Filter for users with >= 100 public transactions: 806422 ratings; 3159 users\n",
      "Only July 2005: 35238 ratings; 1999 users\n",
      "Entire dataset: 100498277 ratings; 480189 users\n",
      "Subset of 10000 users: 2086064 ratings; 10000 users\n",
      "Only July 2005: 100667 ratings; 4439 users\n"
     ]
    }
   ],
   "source": [
    "movieDF = df_raw[df_raw['Rating'].isnull()]\n",
    "userList = sample(df_raw.dropna()['CustomerID'].unique().tolist(), 10000)\n",
    "dfTrain = buildDataset(df_raw, userList, train = True)\n",
    "dfTrain = addMovieInfo(dfTrain, movieDF)\n",
    "dfTest = buildDataset(df_raw, userList, train = False)\n",
    "dfTest = addMovieInfo(dfTest, movieDF)\n",
    "dfTrain.to_csv(\"train/Trial1.csv\")\n",
    "dfTest.to_csv(\"test/Trial1.csv\")"
   ]
  },
  {
   "cell_type": "code",
   "execution_count": 9,
   "metadata": {},
   "outputs": [
    {
     "data": {
      "application/vnd.jupyter.widget-view+json": {
       "model_id": "4cd1fb8cccbf4e63a0c844088250280f",
       "version_major": 2,
       "version_minor": 0
      },
      "text/plain": [
       "HBox(children=(IntProgress(value=0, max=31), HTML(value='')))"
      ]
     },
     "metadata": {},
     "output_type": "display_data"
    },
    {
     "name": "stdout",
     "output_type": "stream",
     "text": [
      "\n"
     ]
    }
   ],
   "source": [
    "simLists = getSimListMonthly(dfTest)"
   ]
  },
  {
   "cell_type": "code",
   "execution_count": 10,
   "metadata": {},
   "outputs": [],
   "source": [
    "fileName = 'simLists/Trial1.pkl'\n",
    "with open(fileName, 'wb') as handle:\n",
    "    pickle.dump(simLists, handle)"
   ]
  },
  {
   "cell_type": "code",
   "execution_count": 11,
   "metadata": {},
   "outputs": [],
   "source": [
    "with open(fileName, 'rb') as handle:\n",
    "    simLists = pickle.load(handle)"
   ]
  },
  {
   "cell_type": "code",
   "execution_count": 99,
   "metadata": {},
   "outputs": [],
   "source": [
    "dfTrain = pd.read_csv(\"train/Trial1.csv\", index_col = 0)\n",
    "dfTest = pd.read_csv(\"test/Trial1.csv\", index_col = 0)"
   ]
  },
  {
   "cell_type": "code",
   "execution_count": 524,
   "metadata": {},
   "outputs": [
    {
     "name": "stdout",
     "output_type": "stream",
     "text": [
      "number of (user, date) pairs: 14732 \n",
      "(user, date) pairs with <= 5 transactions: 12233\n",
      "filter by users with >= 100 transactions (in the whole dataset): 7121\n",
      "final transaction count:  13367\n"
     ]
    }
   ],
   "source": [
    "countDF = dfTest.groupby([\"CustomerID\", \"Day\"]).count()\n",
    "print(f\"number of (user, date) pairs: {countDF.shape[0]} \")\n",
    "countDF = countDF[countDF[\"Rating\"] <= 5]\n",
    "print(f\"(user, date) pairs with <= 5 transactions: {countDF.shape[0]}\")\n",
    "validUsers = set(dfTrain[\"CustomerID\"].unique())\n",
    "countDF = countDF.reset_index()\n",
    "countDF = countDF[countDF[\"CustomerID\"].isin(validUsers)]\n",
    "#monthlyCountDF = dfTest.groupby([\"CustomerID\"]).count()\n",
    "print(f\"filter by users with >= 100 transactions (in the whole dataset): {countDF.shape[0]}\")\n",
    "print(\"final transaction count: \", countDF[\"Rating\"].sum())\n",
    "#validUsers = set(monthlyCountDF[(monthlyCountDF[\"Rating\"] > 100).values].index)\n",
    "#countDF = countDF[countDF[\"CustomerID\"].isin(validUsers)]\n",
    "#print(f\"filter by users with >= 100 transactions (July): {countDF.shape[0]}\")\n",
    "userDayPairs = countDF[[\"CustomerID\", \"Day\"]].to_numpy()\n",
    "\n",
    "# reset countDF to contain full count info\n",
    "countDF = dfTest.groupby([\"CustomerID\", \"Day\"]).count()\n",
    "countDF = countDF.reset_index()"
   ]
  },
  {
   "cell_type": "code",
   "execution_count": 481,
   "metadata": {},
   "outputs": [
    {
     "name": "stdout",
     "output_type": "stream",
     "text": [
      ">100 txn users (full dataset):  1999\n",
      ">100 txn users (July):  197\n"
     ]
    }
   ],
   "source": [
    "print(\"> 100 txn users (full dataset): \", len(set(dfTrain[\"CustomerID\"].unique())))\n",
    "monthlyCountDF = dfTest.groupby([\"CustomerID\"]).count()\n",
    "print(\"> 100 txn users (July): \", len(set(monthlyCountDF[(monthlyCountDF[\"Rating\"] > 100).values].index)))"
   ]
  },
  {
   "cell_type": "code",
   "execution_count": 499,
   "metadata": {},
   "outputs": [
    {
     "data": {
      "text/plain": [
       "7121"
      ]
     },
     "execution_count": 499,
     "metadata": {},
     "output_type": "execute_result"
    }
   ],
   "source": [
    "len(userPairs)"
   ]
  },
  {
   "cell_type": "code",
   "execution_count": 500,
   "metadata": {},
   "outputs": [
    {
     "data": {
      "text/plain": [
       "1826"
      ]
     },
     "execution_count": 500,
     "metadata": {},
     "output_type": "execute_result"
    }
   ],
   "source": [
    "len(np.unique(userDayPairs[:, 0]))"
   ]
  },
  {
   "cell_type": "code",
   "execution_count": 520,
   "metadata": {},
   "outputs": [
    {
     "name": "stdout",
     "output_type": "stream",
     "text": [
      "number of (user, date) pairs: 14732 \n",
      "(user, date) pairs with <= 5 transactions: 12233\n"
     ]
    }
   ],
   "source": [
    "countDF = dfTest.groupby([\"CustomerID\", \"Day\"]).count()\n",
    "print(f\"number of (user, date) pairs: {countDF.shape[0]} \")\n",
    "countDF = countDF[countDF[\"Rating\"] <= 5]\n",
    "print(f\"(user, date) pairs with <= 5 transactions: {countDF.shape[0]}\")\n",
    "validUsers = set(dfTrain[\"CustomerID\"].unique())\n",
    "countDF = countDF.reset_index()\n",
    "countDF = countDF[countDF[\"CustomerID\"].isin(validUsers)]"
   ]
  },
  {
   "cell_type": "code",
   "execution_count": 501,
   "metadata": {},
   "outputs": [],
   "source": [
    "def getScore(searchID, simList):\n",
    "    for movieID, score in simList:\n",
    "        if searchID == movieID:\n",
    "            return score\n",
    "    return np.nan"
   ]
  },
  {
   "cell_type": "code",
   "execution_count": 260,
   "metadata": {},
   "outputs": [],
   "source": [
    "def propagatedAux(user):\n",
    "    # known movies watched by user during July\n",
    "    aux = dfTrain[dfTrain[\"CustomerID\"] == user][\"MovieID\"].to_numpy() \n",
    "    n = len(aux)\n",
    "    \n",
    "    # get subset of days where a rating was given by user\n",
    "    validDays = countDF[countDF[\"CustomerID\"] == user][\"Day\"]\n",
    "    \n",
    "    prop = dict()\n",
    "    \n",
    "    for day in validDays:            \n",
    "        deltaMatrix = np.zeros((n, n))\n",
    "        for i in range(n):\n",
    "            if day > 1:\n",
    "                if aux[i] not in simLists[day - 2].keys():\n",
    "                    continue\n",
    "                lastSimList = simLists[day - 2][aux[i]]\n",
    "            currSimList = simLists[day - 1][aux[i]]\n",
    "            \n",
    "            for j in range(i + 1, n):\n",
    "                if day == 1:\n",
    "                    startScore = 0\n",
    "                else:\n",
    "                    startScore = getScore(aux[j], lastSimList)\n",
    "                endScore = getScore(aux[j], currSimList)\n",
    "                scoreDelta = endScore - startScore\n",
    "                if np.isnan(scoreDelta):\n",
    "                    scoreDelta = 0\n",
    "                deltaMatrix[i][j] = scoreDelta\n",
    "                deltaMatrix[j][i] = scoreDelta\n",
    "        #print(\"day: \", day)\n",
    "        for i, movieID in enumerate(aux):\n",
    "            deltaSum = np.sum(deltaMatrix[i])\n",
    "            #print(f\"movie: {movieID} deltaSum: \", deltaSum)\n",
    "            if deltaSum > 0:\n",
    "                if movieID not in prop:\n",
    "                    prop[movieID] = day\n",
    "    return prop"
   ]
  },
  {
   "cell_type": "code",
   "execution_count": 218,
   "metadata": {},
   "outputs": [],
   "source": [
    "def filterAux(A, day):\n",
    "    newA = set()\n",
    "    for key, value in A.items():\n",
    "        if value <= day:\n",
    "            newA.add(key)\n",
    "    return newA"
   ]
  },
  {
   "cell_type": "code",
   "execution_count": 512,
   "metadata": {},
   "outputs": [],
   "source": [
    "def getSupports(A, day, T):\n",
    "    TScores = Counter()\n",
    "        \n",
    "    for movieID in tqdm(A):\n",
    "        if day > 1:\n",
    "            if movieID not in simLists[day - 2].keys():\n",
    "                continue\n",
    "            lastSimList = simLists[day - 2][movieID]\n",
    "        else:\n",
    "            if movieID not in simLists[day - 1].keys():\n",
    "                continue\n",
    "        currSimList = simLists[day - 1][movieID]\n",
    "        \n",
    "        for movieID2 in T:\n",
    "            if day > 1:\n",
    "                if movieID2 not in simLists[day - 2].keys():\n",
    "                    continue\n",
    "            else:\n",
    "                if movieID2 not in simLists[day - 1].keys():\n",
    "                    continue\n",
    "            if day == 1:\n",
    "                startScore = 0\n",
    "            else:\n",
    "                startScore = getScore(movieID2, lastSimList)\n",
    "                if np.isnan(startScore):\n",
    "                    startScore = getScore(movieID, simLists[day - 2][movieID2])\n",
    "            endScore = getScore(movieID2, currSimList)\n",
    "            if np.isnan(startScore):\n",
    "                startScore = getScore(movieID, simLists[day - 1][movieID2])\n",
    "\n",
    "            scoreDelta = endScore - startScore\n",
    "            if np.isnan(scoreDelta):\n",
    "                scoreDelta = 0\n",
    "            if np.isnan(startScore) and not np.isnan(endScore):\n",
    "                TScores[movieID2] += 1\n",
    "            elif scoreDelta > 0:\n",
    "                TScores[movieID2] += 1\n",
    "        \n",
    "    return TScores\n",
    "\n",
    "def alg2(fullAux, propAux, day, T, scoreThreshold = 0, supportThreshold = 1):\n",
    "    T = T - fullAux\n",
    "    A = filterAux(propAux, day)\n",
    "    n = len(A)\n",
    "    \n",
    "    inferSet = set()\n",
    "\n",
    "    if n == 0:\n",
    "        return inferSet\n",
    "    \n",
    "    supports = getSupports(A, day, T)\n",
    "    for movieID in supports:\n",
    "        support = supports[movieID]\n",
    "        if support / n > scoreThreshold and support >= supportThreshold:\n",
    "            inferSet.add(movieID)\n",
    "    return inferSet, supports"
   ]
  },
  {
   "cell_type": "code",
   "execution_count": 513,
   "metadata": {},
   "outputs": [],
   "source": [
    "user, day = userPairs[25]"
   ]
  },
  {
   "cell_type": "code",
   "execution_count": 516,
   "metadata": {},
   "outputs": [
    {
     "name": "stdout",
     "output_type": "stream",
     "text": [
      "fullAux:  308\n",
      "propAux:  307\n",
      "day:  27\n",
      "soln (before subtracting):  {14678, 13181, 7750, 8831}\n"
     ]
    },
    {
     "data": {
      "application/vnd.jupyter.widget-view+json": {
       "model_id": "351fc7df983344dbbd6d87a92ed1e91f",
       "version_major": 2,
       "version_minor": 0
      },
      "text/plain": [
       "HBox(children=(IntProgress(value=0, max=307), HTML(value='')))"
      ]
     },
     "metadata": {},
     "output_type": "display_data"
    },
    {
     "name": "stdout",
     "output_type": "stream",
     "text": [
      "\n",
      "soln size:  4\n",
      "infer size:  3\n",
      "soln:  {7750, 13181, 14678, 8831}\n",
      "infer:  {9761, 6146, 13181}\n",
      "user, day:  10679 27\n",
      "percent inferences: 1 / 3\n",
      "num solutions correct: 1 / 4\n"
     ]
    }
   ],
   "source": [
    "T = set(dfTest[\"MovieID\"].unique())\n",
    "fullAux = set(dfTrain[dfTrain[\"CustomerID\"] == user][\"MovieID\"])\n",
    "soln = set(dfTest[(dfTest[\"CustomerID\"] == user) & (dfTest[\"Day\"] == day)][\"MovieID\"])\n",
    "propAux = dict(dfTrain[dfTrain[\"CustomerID\"] == user][[\"MovieID\", \"Day\"]].to_numpy())\n",
    "\n",
    "print(\"fullAux: \", len(fullAux))\n",
    "print(\"propAux: \", len(filterAux(propAux, day)))\n",
    "print(\"day: \", day)\n",
    "print(\"soln (before subtracting): \", soln)\n",
    "soln = soln - fullAux\n",
    "    \n",
    "inferSet, supports = alg2(fullAux, propAux, day, T, scoreThreshold = 0.1)\n",
    "print(\"soln size: \", len(soln))\n",
    "print(\"infer size: \", len(inferSet))\n",
    "print(\"soln: \", soln)\n",
    "print(\"infer: \", inferSet)\n",
    "\n",
    "if len(inferSet) > 0:\n",
    "    print(\"user, day: \", user, day)\n",
    "    print(f\"percent inferences: {len(soln.intersection(inferSet))} / {len(inferSet)}\")\n",
    "    print(f\"num solutions correct: {len(soln.intersection(inferSet))} / {len(soln)}\")"
   ]
  },
  {
   "cell_type": "code",
   "execution_count": 377,
   "metadata": {},
   "outputs": [
    {
     "data": {
      "application/vnd.jupyter.widget-view+json": {
       "model_id": "43b2d4cfe04545f4862e7d7edcf40a42",
       "version_major": 2,
       "version_minor": 0
      },
      "text/plain": [
       "HBox(children=(IntProgress(value=0, max=7121), HTML(value='')))"
      ]
     },
     "metadata": {},
     "output_type": "display_data"
    },
    {
     "name": "stdout",
     "output_type": "stream",
     "text": [
      "user:  2555\n",
      "user, day:  2555 11\n",
      "percent inferences: 0 / 36\n",
      "num solutions correct: 0 / 36\n",
      "user, day:  2555 25\n",
      "percent inferences: 0 / 12\n",
      "num solutions correct: 0 / 12\n",
      "user, day:  2555 26\n",
      "percent inferences: 0 / 3\n",
      "num solutions correct: 0 / 3\n",
      "user, day:  2555 29\n",
      "percent inferences: 0 / 13\n",
      "num solutions correct: 0 / 13\n",
      "user:  4066\n",
      "user:  9321\n",
      "user, day:  9321 12\n",
      "percent inferences: 0 / 4\n",
      "num solutions correct: 0 / 4\n",
      "user, day:  9321 20\n",
      "percent inferences: 1 / 1\n",
      "num solutions correct: 1 / 1\n",
      "user, day:  9321 21\n",
      "percent inferences: 0 / 1\n",
      "num solutions correct: 0 / 1\n",
      "user:  9636\n",
      "user:  10308\n",
      "user, day:  10308 8\n",
      "percent inferences: 0 / 28\n",
      "num solutions correct: 0 / 28\n",
      "user:  10679\n"
     ]
    },
    {
     "ename": "KeyboardInterrupt",
     "evalue": "",
     "output_type": "error",
     "traceback": [
      "\u001b[0;31m---------------------------------------------------------------------------\u001b[0m",
      "\u001b[0;31mKeyboardInterrupt\u001b[0m                         Traceback (most recent call last)",
      "\u001b[0;32m<ipython-input-377-7d0293f03969>\u001b[0m in \u001b[0;36m<module>\u001b[0;34m\u001b[0m\n\u001b[1;32m     20\u001b[0m         \u001b[0mlastUser\u001b[0m \u001b[0;34m=\u001b[0m \u001b[0muser\u001b[0m\u001b[0;34m\u001b[0m\u001b[0;34m\u001b[0m\u001b[0m\n\u001b[1;32m     21\u001b[0m \u001b[0;34m\u001b[0m\u001b[0m\n\u001b[0;32m---> 22\u001b[0;31m     \u001b[0minferSet\u001b[0m \u001b[0;34m=\u001b[0m \u001b[0malg2\u001b[0m\u001b[0;34m(\u001b[0m\u001b[0mfullAux\u001b[0m\u001b[0;34m,\u001b[0m \u001b[0mpropAux\u001b[0m\u001b[0;34m,\u001b[0m \u001b[0mday\u001b[0m\u001b[0;34m,\u001b[0m \u001b[0mT\u001b[0m\u001b[0;34m)\u001b[0m\u001b[0;34m\u001b[0m\u001b[0;34m\u001b[0m\u001b[0m\n\u001b[0m\u001b[1;32m     23\u001b[0m     \u001b[0;31m#print(\"soln size: \", len(soln))\u001b[0m\u001b[0;34m\u001b[0m\u001b[0;34m\u001b[0m\u001b[0;34m\u001b[0m\u001b[0m\n\u001b[1;32m     24\u001b[0m     \u001b[0;32mif\u001b[0m \u001b[0mlen\u001b[0m\u001b[0;34m(\u001b[0m\u001b[0minferSet\u001b[0m\u001b[0;34m)\u001b[0m \u001b[0;34m>\u001b[0m \u001b[0;36m0\u001b[0m\u001b[0;34m:\u001b[0m\u001b[0;34m\u001b[0m\u001b[0;34m\u001b[0m\u001b[0m\n",
      "\u001b[0;32m<ipython-input-374-79d466828b75>\u001b[0m in \u001b[0;36malg2\u001b[0;34m(fullAux, propAux, day, T, scoreThreshold, supportThreshold)\u001b[0m\n\u001b[1;32m     35\u001b[0m         \u001b[0;32mreturn\u001b[0m \u001b[0minferSet\u001b[0m\u001b[0;34m\u001b[0m\u001b[0;34m\u001b[0m\u001b[0m\n\u001b[1;32m     36\u001b[0m \u001b[0;34m\u001b[0m\u001b[0m\n\u001b[0;32m---> 37\u001b[0;31m     \u001b[0msupports\u001b[0m \u001b[0;34m=\u001b[0m \u001b[0mgetSupports\u001b[0m\u001b[0;34m(\u001b[0m\u001b[0mA\u001b[0m\u001b[0;34m,\u001b[0m \u001b[0mday\u001b[0m\u001b[0;34m,\u001b[0m \u001b[0mT\u001b[0m\u001b[0;34m)\u001b[0m\u001b[0;34m\u001b[0m\u001b[0;34m\u001b[0m\u001b[0m\n\u001b[0m\u001b[1;32m     38\u001b[0m     \u001b[0;32mfor\u001b[0m \u001b[0mmovieID\u001b[0m \u001b[0;32min\u001b[0m \u001b[0msupports\u001b[0m\u001b[0;34m:\u001b[0m\u001b[0;34m\u001b[0m\u001b[0;34m\u001b[0m\u001b[0m\n\u001b[1;32m     39\u001b[0m         \u001b[0msupport\u001b[0m \u001b[0;34m=\u001b[0m \u001b[0msupports\u001b[0m\u001b[0;34m[\u001b[0m\u001b[0mmovieID\u001b[0m\u001b[0;34m]\u001b[0m\u001b[0;34m\u001b[0m\u001b[0;34m\u001b[0m\u001b[0m\n",
      "\u001b[0;32m<ipython-input-374-79d466828b75>\u001b[0m in \u001b[0;36mgetSupports\u001b[0;34m(A, day, T)\u001b[0m\n\u001b[1;32m     16\u001b[0m             \u001b[0mendScore\u001b[0m \u001b[0;34m=\u001b[0m \u001b[0mgetScore\u001b[0m\u001b[0;34m(\u001b[0m\u001b[0mmovieID2\u001b[0m\u001b[0;34m,\u001b[0m \u001b[0mcurrSimList\u001b[0m\u001b[0;34m)\u001b[0m\u001b[0;34m\u001b[0m\u001b[0;34m\u001b[0m\u001b[0m\n\u001b[1;32m     17\u001b[0m             \u001b[0mscoreDelta\u001b[0m \u001b[0;34m=\u001b[0m \u001b[0mendScore\u001b[0m \u001b[0;34m-\u001b[0m \u001b[0mstartScore\u001b[0m\u001b[0;34m\u001b[0m\u001b[0;34m\u001b[0m\u001b[0m\n\u001b[0;32m---> 18\u001b[0;31m             \u001b[0;32mif\u001b[0m \u001b[0mnp\u001b[0m\u001b[0;34m.\u001b[0m\u001b[0misnan\u001b[0m\u001b[0;34m(\u001b[0m\u001b[0mscoreDelta\u001b[0m\u001b[0;34m)\u001b[0m\u001b[0;34m:\u001b[0m\u001b[0;34m\u001b[0m\u001b[0;34m\u001b[0m\u001b[0m\n\u001b[0m\u001b[1;32m     19\u001b[0m                 \u001b[0mscoreDelta\u001b[0m \u001b[0;34m=\u001b[0m \u001b[0;36m0\u001b[0m\u001b[0;34m\u001b[0m\u001b[0;34m\u001b[0m\u001b[0m\n\u001b[1;32m     20\u001b[0m             \u001b[0;32mif\u001b[0m \u001b[0mnp\u001b[0m\u001b[0;34m.\u001b[0m\u001b[0misnan\u001b[0m\u001b[0;34m(\u001b[0m\u001b[0mstartScore\u001b[0m\u001b[0;34m)\u001b[0m \u001b[0;32mand\u001b[0m \u001b[0;32mnot\u001b[0m \u001b[0mnp\u001b[0m\u001b[0;34m.\u001b[0m\u001b[0misnan\u001b[0m\u001b[0;34m(\u001b[0m\u001b[0mendScore\u001b[0m\u001b[0;34m)\u001b[0m\u001b[0;34m:\u001b[0m\u001b[0;34m\u001b[0m\u001b[0;34m\u001b[0m\u001b[0m\n",
      "\u001b[0;31mKeyboardInterrupt\u001b[0m: "
     ]
    }
   ],
   "source": [
    "T = set(dfTest[\"MovieID\"].unique())\n",
    "\n",
    "lastUser = None\n",
    "for user, day in tqdm(userPairs):\n",
    "    fullAux = set(dfTrain[dfTrain[\"CustomerID\"] == user][\"MovieID\"])\n",
    "    soln = set(dfTest[(dfTest[\"CustomerID\"] == user) & (dfTest[\"Day\"] == day)][\"MovieID\"])\n",
    "    soln = soln - fullAux\n",
    "    \n",
    "    filteredAux = filterAux(propAux, day)\n",
    "    if filteredAux == 0:\n",
    "        continue\n",
    "    \n",
    "    if len(soln) == 0:\n",
    "        continue\n",
    "    \n",
    "    if user != lastUser:\n",
    "        print(\"user: \", user)\n",
    "        #propAux = propagatedAux(user)\n",
    "        propAux = dict(dfTrain[dfTrain[\"CustomerID\"] == user][[\"MovieID\", \"Day\"]].to_numpy())\n",
    "        lastUser = user\n",
    "    \n",
    "    inferSet = alg2(fullAux, propAux, day, T)\n",
    "    #print(\"soln size: \", len(soln))\n",
    "    if len(inferSet) > 0:\n",
    "        print(\"user, day: \", user, day)\n",
    "        print(f\"percent inferences: {len(soln.intersection(inferSet))} / {len(inferSet)}\")\n",
    "        print(f\"num solutions correct: {len(soln.intersection(inferSet))} / {len(inferSet)}\")"
   ]
  },
  {
   "cell_type": "code",
   "execution_count": 258,
   "metadata": {},
   "outputs": [
    {
     "data": {
      "text/plain": [
       "{1072, 1718, 11811, 12358, 16112}"
      ]
     },
     "execution_count": 258,
     "metadata": {},
     "output_type": "execute_result"
    }
   ],
   "source": [
    "set(dfTrain[dfTrain[\"CustomerID\"] == user][\"MovieID\"])"
   ]
  },
  {
   "cell_type": "code",
   "execution_count": 281,
   "metadata": {},
   "outputs": [
    {
     "data": {
      "text/html": [
       "<div>\n",
       "<style scoped>\n",
       "    .dataframe tbody tr th:only-of-type {\n",
       "        vertical-align: middle;\n",
       "    }\n",
       "\n",
       "    .dataframe tbody tr th {\n",
       "        vertical-align: top;\n",
       "    }\n",
       "\n",
       "    .dataframe thead th {\n",
       "        text-align: right;\n",
       "    }\n",
       "</style>\n",
       "<table border=\"1\" class=\"dataframe\">\n",
       "  <thead>\n",
       "    <tr style=\"text-align: right;\">\n",
       "      <th></th>\n",
       "      <th>CustomerID</th>\n",
       "      <th>Rating</th>\n",
       "      <th>Date</th>\n",
       "      <th>MovieID</th>\n",
       "      <th>Day</th>\n",
       "    </tr>\n",
       "  </thead>\n",
       "  <tbody>\n",
       "    <tr>\n",
       "      <td>64659221</td>\n",
       "      <td>2555</td>\n",
       "      <td>5.0</td>\n",
       "      <td>2005-07-25</td>\n",
       "      <td>11811</td>\n",
       "      <td>25</td>\n",
       "    </tr>\n",
       "  </tbody>\n",
       "</table>\n",
       "</div>"
      ],
      "text/plain": [
       "          CustomerID  Rating        Date  MovieID  Day\n",
       "64659221        2555     5.0  2005-07-25    11811   25"
      ]
     },
     "execution_count": 281,
     "metadata": {},
     "output_type": "execute_result"
    }
   ],
   "source": [
    "dfTrain[(dfTrain[\"CustomerID\"] == user) & (dfTrain[\"Day\"] == day)]"
   ]
  },
  {
   "cell_type": "code",
   "execution_count": 282,
   "metadata": {},
   "outputs": [
    {
     "data": {
      "text/html": [
       "<div>\n",
       "<style scoped>\n",
       "    .dataframe tbody tr th:only-of-type {\n",
       "        vertical-align: middle;\n",
       "    }\n",
       "\n",
       "    .dataframe tbody tr th {\n",
       "        vertical-align: top;\n",
       "    }\n",
       "\n",
       "    .dataframe thead th {\n",
       "        text-align: right;\n",
       "    }\n",
       "</style>\n",
       "<table border=\"1\" class=\"dataframe\">\n",
       "  <thead>\n",
       "    <tr style=\"text-align: right;\">\n",
       "      <th></th>\n",
       "      <th>CustomerID</th>\n",
       "      <th>Rating</th>\n",
       "      <th>Date</th>\n",
       "      <th>MovieID</th>\n",
       "      <th>Day</th>\n",
       "    </tr>\n",
       "  </thead>\n",
       "  <tbody>\n",
       "    <tr>\n",
       "      <td>4015745</td>\n",
       "      <td>2555</td>\n",
       "      <td>3.0</td>\n",
       "      <td>2005-07-25</td>\n",
       "      <td>759</td>\n",
       "      <td>25</td>\n",
       "    </tr>\n",
       "    <tr>\n",
       "      <td>64659221</td>\n",
       "      <td>2555</td>\n",
       "      <td>5.0</td>\n",
       "      <td>2005-07-25</td>\n",
       "      <td>11811</td>\n",
       "      <td>25</td>\n",
       "    </tr>\n",
       "  </tbody>\n",
       "</table>\n",
       "</div>"
      ],
      "text/plain": [
       "          CustomerID  Rating        Date  MovieID  Day\n",
       "4015745         2555     3.0  2005-07-25      759   25\n",
       "64659221        2555     5.0  2005-07-25    11811   25"
      ]
     },
     "execution_count": 282,
     "metadata": {},
     "output_type": "execute_result"
    }
   ],
   "source": [
    "dfTest[(dfTest[\"CustomerID\"] == user) & (dfTest[\"Day\"] == day)]"
   ]
  },
  {
   "cell_type": "code",
   "execution_count": 284,
   "metadata": {},
   "outputs": [
    {
     "data": {
      "text/plain": [
       "{759}"
      ]
     },
     "execution_count": 284,
     "metadata": {},
     "output_type": "execute_result"
    }
   ],
   "source": [
    "soln - fullAux"
   ]
  },
  {
   "cell_type": "code",
   "execution_count": null,
   "metadata": {},
   "outputs": [],
   "source": []
  }
 ],
 "metadata": {
  "kernelspec": {
   "display_name": "Python 3",
   "language": "python",
   "name": "python3"
  },
  "language_info": {
   "codemirror_mode": {
    "name": "ipython",
    "version": 3
   },
   "file_extension": ".py",
   "mimetype": "text/x-python",
   "name": "python",
   "nbconvert_exporter": "python",
   "pygments_lexer": "ipython3",
   "version": "3.7.4"
  }
 },
 "nbformat": 4,
 "nbformat_minor": 2
}
