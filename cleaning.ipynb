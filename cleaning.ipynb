{
 "cells": [
  {
   "cell_type": "markdown",
   "metadata": {},
   "source": [
    "# MS&E 234 Project\n",
    "\n",
    "### Data cleaning"
   ]
  },
  {
   "cell_type": "code",
   "execution_count": 1,
   "metadata": {},
   "outputs": [],
   "source": [
    "import pandas as pd\n",
    "import numpy as np\n",
    "import re\n",
    "from random import sample\n",
    "import os\n",
    "import itertools\n",
    "from collections import defaultdict,Counter\n",
    "from tqdm.notebook import tqdm\n",
    "import pickle"
   ]
  },
  {
   "cell_type": "markdown",
   "metadata": {},
   "source": [
    "### Step 1: Load data"
   ]
  },
  {
   "cell_type": "code",
   "execution_count": 6,
   "metadata": {},
   "outputs": [
    {
     "data": {
      "text/html": [
       "<div>\n",
       "<style scoped>\n",
       "    .dataframe tbody tr th:only-of-type {\n",
       "        vertical-align: middle;\n",
       "    }\n",
       "\n",
       "    .dataframe tbody tr th {\n",
       "        vertical-align: top;\n",
       "    }\n",
       "\n",
       "    .dataframe thead th {\n",
       "        text-align: right;\n",
       "    }\n",
       "</style>\n",
       "<table border=\"1\" class=\"dataframe\">\n",
       "  <thead>\n",
       "    <tr style=\"text-align: right;\">\n",
       "      <th></th>\n",
       "      <th>CustomerID</th>\n",
       "      <th>Rating</th>\n",
       "      <th>Date</th>\n",
       "    </tr>\n",
       "  </thead>\n",
       "  <tbody>\n",
       "    <tr>\n",
       "      <th>0</th>\n",
       "      <td>1:</td>\n",
       "      <td>NaN</td>\n",
       "      <td>NaN</td>\n",
       "    </tr>\n",
       "    <tr>\n",
       "      <th>1</th>\n",
       "      <td>1488844</td>\n",
       "      <td>3.0</td>\n",
       "      <td>2005-09-06</td>\n",
       "    </tr>\n",
       "    <tr>\n",
       "      <th>2</th>\n",
       "      <td>822109</td>\n",
       "      <td>5.0</td>\n",
       "      <td>2005-05-13</td>\n",
       "    </tr>\n",
       "    <tr>\n",
       "      <th>3</th>\n",
       "      <td>885013</td>\n",
       "      <td>4.0</td>\n",
       "      <td>2005-10-19</td>\n",
       "    </tr>\n",
       "    <tr>\n",
       "      <th>4</th>\n",
       "      <td>30878</td>\n",
       "      <td>4.0</td>\n",
       "      <td>2005-12-26</td>\n",
       "    </tr>\n",
       "    <tr>\n",
       "      <th>...</th>\n",
       "      <td>...</td>\n",
       "      <td>...</td>\n",
       "      <td>...</td>\n",
       "    </tr>\n",
       "    <tr>\n",
       "      <th>100498272</th>\n",
       "      <td>1790158</td>\n",
       "      <td>4.0</td>\n",
       "      <td>2005-11-01</td>\n",
       "    </tr>\n",
       "    <tr>\n",
       "      <th>100498273</th>\n",
       "      <td>1608708</td>\n",
       "      <td>3.0</td>\n",
       "      <td>2005-07-19</td>\n",
       "    </tr>\n",
       "    <tr>\n",
       "      <th>100498274</th>\n",
       "      <td>234275</td>\n",
       "      <td>1.0</td>\n",
       "      <td>2004-08-07</td>\n",
       "    </tr>\n",
       "    <tr>\n",
       "      <th>100498275</th>\n",
       "      <td>255278</td>\n",
       "      <td>4.0</td>\n",
       "      <td>2004-05-28</td>\n",
       "    </tr>\n",
       "    <tr>\n",
       "      <th>100498276</th>\n",
       "      <td>453585</td>\n",
       "      <td>2.0</td>\n",
       "      <td>2005-03-10</td>\n",
       "    </tr>\n",
       "  </tbody>\n",
       "</table>\n",
       "<p>100498277 rows × 3 columns</p>\n",
       "</div>"
      ],
      "text/plain": [
       "          CustomerID  Rating        Date\n",
       "0                 1:     NaN         NaN\n",
       "1            1488844     3.0  2005-09-06\n",
       "2             822109     5.0  2005-05-13\n",
       "3             885013     4.0  2005-10-19\n",
       "4              30878     4.0  2005-12-26\n",
       "...              ...     ...         ...\n",
       "100498272    1790158     4.0  2005-11-01\n",
       "100498273    1608708     3.0  2005-07-19\n",
       "100498274     234275     1.0  2004-08-07\n",
       "100498275     255278     4.0  2004-05-28\n",
       "100498276     453585     2.0  2005-03-10\n",
       "\n",
       "[100498277 rows x 3 columns]"
      ]
     },
     "execution_count": 6,
     "metadata": {},
     "output_type": "execute_result"
    }
   ],
   "source": [
    "df_raw = pd.DataFrame()\n",
    "path = os.getcwd()\n",
    "for i in range(1, 4+1):\n",
    "    df_raw = pd.concat([df_raw, pd.read_csv(f'{path}/netflix-prize-kaggle-data/combined_data_{i}.txt',\n",
    "        header=None,\n",
    "        names=['CustomerID', 'Rating', 'Date'])])\n",
    "df_raw = df_raw.reset_index(drop = True)\n",
    "df_raw"
   ]
  },
  {
   "cell_type": "markdown",
   "metadata": {},
   "source": [
    "### Step 2: Generate Training & Testing Datasets"
   ]
  },
  {
   "cell_type": "code",
   "execution_count": 21,
   "metadata": {},
   "outputs": [],
   "source": [
    "def generate_dataset(df, users, train):\n",
    "    df = df[df['CustomerID'].isin(users)]\n",
    "    print(f\"Subset of 10000 users: {df.shape[0]} ratings; {df['CustomerID'].nunique()} users\")\n",
    "\n",
    "    if (train == True):\n",
    "        # assume 50% of the transactions are public\n",
    "        idxs = df[['CustomerID']].reset_index().groupby('CustomerID').agg({'index':lambda x: list(x)}).to_numpy().tolist()\n",
    "        drop_idxs = []\n",
    "        for i in range(len(idxs)):\n",
    "            drop_idxs.append(sample(idxs[i][0], len(idxs[i][0]) // 2))\n",
    "        drop_idxs = list(itertools.chain(*drop_idxs))\n",
    "        df = df.drop(drop_idxs)\n",
    "        print(f'After making 50% private: {df.shape[0]} ratings; {df.CustomerID.nunique()} users')\n",
    "    \n",
    "        # only consider users with at least 100 public transactions\n",
    "        df = df[df['CustomerID'].isin(df['CustomerID'].value_counts()[df['CustomerID'].value_counts() >= 100].index)]\n",
    "        print(f'Filter for users with >= 100 public transactions: {df.shape[0]} ratings; {df.CustomerID.nunique()} users')\n",
    "\n",
    "    # Subset the data to analyze only ratings from July 2005\n",
    "    df = df[df['Date'].apply(lambda x: type(x) == str and bool(re.match(r'2005-07.*', x)))]\n",
    "    print(f'Only July 2005: {df.shape[0]} ratings; {df[\"CustomerID\"].nunique()} users')\n",
    "\n",
    "    return df"
   ]
  },
  {
   "cell_type": "code",
   "execution_count": 4,
   "metadata": {},
   "outputs": [],
   "source": [
    "# extract movie ID's from raw data, combine these with df\n",
    "# The data files follow the following format:\n",
    "# Movie ID:\n",
    "# CustomerID, Rating, Date\n",
    "# ...\n",
    "def add_movie_info(df, movie_df):\n",
    "    # get movie id boundaries\n",
    "    movie_rows = np.array(movie_df.index)\n",
    "\n",
    "    # create a column with movie ids to add to df\n",
    "    movie_ids = []\n",
    "    curr_idx = 0\n",
    "    for row in df.itertuples(index = True, name = 'Pandas'):\n",
    "        curr_row = row.Index\n",
    "        while curr_idx < len(movie_rows) - 1:\n",
    "            next_movie_row = movie_rows[curr_idx + 1]\n",
    "            if curr_row > next_movie_row:\n",
    "                curr_idx += 1\n",
    "            else:\n",
    "                break\n",
    "        movie_ids.append(curr_idx + 1) # since index of movie IDs starts at 1\n",
    "    \n",
    "    # add movie ids and days\n",
    "    df['MovieID'] = movie_ids\n",
    "    df['Day'] = pd.DatetimeIndex(df['Date']).day\n",
    "\n",
    "    return df"
   ]
  },
  {
   "cell_type": "code",
   "execution_count": 5,
   "metadata": {},
   "outputs": [],
   "source": [
    "# get movie ids\n",
    "movie_df = df_raw[df_raw['Rating'].isnull()]"
   ]
  },
  {
   "cell_type": "code",
   "execution_count": 30,
   "metadata": {},
   "outputs": [
    {
     "name": "stdout",
     "output_type": "stream",
     "text": [
      "Subset of 10000 users: 2090975 ratings; 10000 users\n",
      "After making 50% private: 1047993 ratings; 10000 users\n",
      "Filter for users with >= 100 public transactions: 812618 ratings; 3197 users\n",
      "Only July 2005: 35224 ratings; 2027 users\n",
      "Subset of 10000 users: 2090975 ratings; 10000 users\n",
      "Only July 2005: 101093 ratings; 4493 users\n"
     ]
    }
   ],
   "source": [
    "# generate a random sample of users\n",
    "users = sample(df_raw.dropna()['CustomerID'].unique().tolist(), 10000)\n",
    "train = generate_dataset(df_raw, users, train=True)\n",
    "train = add_movie_info(train, movie_df)\n",
    "\n",
    "# get test data with users that have over 100 public transactions\n",
    "valid_users = set(train['CustomerID'].unique())\n",
    "test = generate_dataset(df_raw, users, train=False)\n",
    "test = test[test['CustomerID'].isin(valid_users)]\n",
    "test = add_movie_info(test, movie_df)"
   ]
  },
  {
   "cell_type": "code",
   "execution_count": 32,
   "metadata": {},
   "outputs": [
    {
     "name": "stdout",
     "output_type": "stream",
     "text": [
      "35224\n",
      "70004\n",
      "2027\n",
      "2027\n"
     ]
    }
   ],
   "source": [
    "# testing to see double the number of transactions but the same users\n",
    "print(len(train))\n",
    "print(len(test))\n",
    "print(train['CustomerID'].nunique())\n",
    "print(test['CustomerID'].nunique())"
   ]
  },
  {
   "cell_type": "code",
   "execution_count": 33,
   "metadata": {},
   "outputs": [],
   "source": [
    "# save files for easy loading\n",
    "train.to_csv(path + '/train.csv')\n",
    "test.to_csv(path + '/test.csv')"
   ]
  },
  {
   "cell_type": "markdown",
   "metadata": {},
   "source": [
    "### Step 3: Generate Related Movies' Lists"
   ]
  },
  {
   "cell_type": "code",
   "execution_count": 34,
   "metadata": {},
   "outputs": [],
   "source": [
    "# input: 2 sets x, y\n",
    "# output: for binary vectors x and y: cosine similarity = |x and y| / sqrt(|x||y|)\n",
    "def getCosSim(x, y):\n",
    "    return len(x.intersection(y)) / np.sqrt(len(x) * len(y))"
   ]
  },
  {
   "cell_type": "code",
   "execution_count": 35,
   "metadata": {},
   "outputs": [],
   "source": [
    "# input: sparse binary adjList\n",
    "# output: dict of the 50 most similar items and scores, in format: dict[movieID] => ([(items, scores)])\n",
    "def getSimListDaily(adjList):\n",
    "    simList = {}\n",
    "    for key1 in adjList.keys():\n",
    "        cosSims = []\n",
    "        for key2 in adjList.keys():\n",
    "            if key1 == key2:\n",
    "                continue\n",
    "            cosSim = getCosSim(adjList[key1], adjList[key2])\n",
    "            cosSims.append((key2, cosSim))\n",
    "        simList[key1] = sorted(cosSims, key = lambda x: (-x[1], x[0]))[:50]\n",
    "    return simList"
   ]
  },
  {
   "cell_type": "code",
   "execution_count": 36,
   "metadata": {},
   "outputs": [],
   "source": [
    "# input: dataframe of customerIDs, Ratings, Day of Month, and MovieIDs\n",
    "# input dataframe should contain both public and private data, as the recc system uses all available information\n",
    "# output: list of 50 related movies and similarity ratings per day\n",
    "# on each consecutive day, more data is used by the recc system\n",
    "# uses cosine similarity on a binary matrix\n",
    "def getSimListMonthly(df):\n",
    "    adjList = defaultdict(set)\n",
    "    \n",
    "    simLists = []\n",
    "    \n",
    "    for day in sorted(df[\"Day\"].unique()):\n",
    "        # add new movies from today to adjList\n",
    "        currDF = df[df[\"Day\"] == day]\n",
    "        for row in currDF.itertuples(index = True, name = 'Pandas'):\n",
    "            adjList[row.MovieID].add(row.CustomerID)\n",
    "        \n",
    "        # compute similarity scores\n",
    "        currSimList = getSimListDaily(adjList)\n",
    "        simLists.append(currSimList)\n",
    "    return simLists"
   ]
  },
  {
   "cell_type": "code",
   "execution_count": 37,
   "metadata": {},
   "outputs": [],
   "source": [
    "sim_list = getSimListMonthly(test)"
   ]
  },
  {
   "cell_type": "code",
   "execution_count": 39,
   "metadata": {},
   "outputs": [
    {
     "data": {
      "text/plain": [
       "[(2580, 0.3698977214370539),\n",
       " (1542, 0.3501746458678807),\n",
       " (1180, 0.3206947914353012),\n",
       " (758, 0.3125),\n",
       " (2391, 0.3125)]"
      ]
     },
     "execution_count": 39,
     "metadata": {},
     "output_type": "execute_result"
    }
   ],
   "source": [
    "# shows the top 5 movies related to movie id (second value) on the last day of July 2005\n",
    "sim_list[30][30][0:5]"
   ]
  },
  {
   "cell_type": "code",
   "execution_count": 40,
   "metadata": {},
   "outputs": [],
   "source": [
    "\n",
    "# save sim_list for easy usage\n",
    "sim_list_file = path + '/sim_list.pkl'\n",
    "with open(sim_list_file, 'wb') as f:\n",
    "    pickle.dump(sim_list, f)"
   ]
  },
  {
   "cell_type": "markdown",
   "metadata": {},
   "source": [
    "## Part 3: Inference Algorithm"
   ]
  },
  {
   "cell_type": "markdown",
   "metadata": {},
   "source": [
    "### Questions, TODOs, Comments\n",
    "- For the first observation window, should we be adding all 50 related movies to the window? Maybe we should set a similarity threshold for the value?\n",
    "- Should this be per transaction or per film (some users watch the same film multiple times)?\n",
    "- How should we handle auxiliary items that end up back in the inferred items?"
   ]
  },
  {
   "cell_type": "code",
   "execution_count": 41,
   "metadata": {},
   "outputs": [],
   "source": [
    "# read in files\n",
    "path = os.getcwd()\n",
    "train = pd.read_csv(path + '/train.csv', index_col=0)\n",
    "test = pd.read_csv(path + '/test.csv', index_col=0)\n",
    "\n",
    "sim_list_file = path + '/sim_list.pkl'\n",
    "sim_list = None\n",
    "with open(sim_list_file, 'rb') as f:\n",
    "    sim_list = pickle.load(f)"
   ]
  },
  {
   "cell_type": "code",
   "execution_count": 56,
   "metadata": {},
   "outputs": [
    {
     "name": "stdout",
     "output_type": "stream",
     "text": [
      "Train set: 35224 transactions\n",
      "Test set: 70004 transactions\n"
     ]
    }
   ],
   "source": [
    "print(f'Train set: {len(train)} transactions')\n",
    "print(f'Test set: {len(test)} transactions')"
   ]
  },
  {
   "cell_type": "code",
   "execution_count": 66,
   "metadata": {},
   "outputs": [
    {
     "name": "stdout",
     "output_type": "stream",
     "text": [
      "Number of users: 2027\n",
      "Number of users with 5 or less transactions: 454\n",
      "Train set with users with <= 5 transactions: 799 transactions\n",
      "Test set with users with have <= 5 transactions: 1414 transactions\n"
     ]
    }
   ],
   "source": [
    "\n",
    "# group data into transactions -> (user, day)\n",
    "transaction_counts = test.groupby(['CustomerID']).count()\n",
    "print(f'Number of users: {len(transaction_counts)}')\n",
    "\n",
    "# remove users with more than 5 transactions\n",
    "transaction_counts = transaction_counts[transaction_counts['Rating']  <= 5]\n",
    "print(f'Number of users with 5 or less transactions: {len(transaction_counts)}')\n",
    "\n",
    "# identify non-spiky users\n",
    "valid_users = list(transaction_counts.index)\n",
    "clean_train = train[train['CustomerID'].isin(valid_users)]\n",
    "clean_test = test[test['CustomerID'].isin(valid_users)]\n",
    "\n",
    "print(f'Train set with users with <= 5 transactions: {len(clean_train)} transactions')\n",
    "print(f'Test set with users with have <= 5 transactions: {len(clean_test)} transactions')\n"
   ]
  },
  {
   "cell_type": "code",
   "execution_count": 67,
   "metadata": {},
   "outputs": [
    {
     "data": {
      "text/html": [
       "<div>\n",
       "<style scoped>\n",
       "    .dataframe tbody tr th:only-of-type {\n",
       "        vertical-align: middle;\n",
       "    }\n",
       "\n",
       "    .dataframe tbody tr th {\n",
       "        vertical-align: top;\n",
       "    }\n",
       "\n",
       "    .dataframe thead th {\n",
       "        text-align: right;\n",
       "    }\n",
       "</style>\n",
       "<table border=\"1\" class=\"dataframe\">\n",
       "  <thead>\n",
       "    <tr style=\"text-align: right;\">\n",
       "      <th></th>\n",
       "      <th>CustomerID</th>\n",
       "      <th>Rating</th>\n",
       "      <th>Date</th>\n",
       "      <th>MovieID</th>\n",
       "      <th>Day</th>\n",
       "    </tr>\n",
       "  </thead>\n",
       "  <tbody>\n",
       "    <tr>\n",
       "      <th>6415</th>\n",
       "      <td>464812</td>\n",
       "      <td>3.0</td>\n",
       "      <td>2005-07-14</td>\n",
       "      <td>8</td>\n",
       "      <td>14</td>\n",
       "    </tr>\n",
       "    <tr>\n",
       "      <th>15476</th>\n",
       "      <td>2274466</td>\n",
       "      <td>5.0</td>\n",
       "      <td>2005-07-09</td>\n",
       "      <td>8</td>\n",
       "      <td>9</td>\n",
       "    </tr>\n",
       "    <tr>\n",
       "      <th>27044</th>\n",
       "      <td>1129526</td>\n",
       "      <td>3.0</td>\n",
       "      <td>2005-07-21</td>\n",
       "      <td>17</td>\n",
       "      <td>21</td>\n",
       "    </tr>\n",
       "    <tr>\n",
       "      <th>29005</th>\n",
       "      <td>1871918</td>\n",
       "      <td>3.0</td>\n",
       "      <td>2005-07-22</td>\n",
       "      <td>17</td>\n",
       "      <td>22</td>\n",
       "    </tr>\n",
       "    <tr>\n",
       "      <th>80553</th>\n",
       "      <td>1674099</td>\n",
       "      <td>4.0</td>\n",
       "      <td>2005-07-25</td>\n",
       "      <td>28</td>\n",
       "      <td>25</td>\n",
       "    </tr>\n",
       "  </tbody>\n",
       "</table>\n",
       "</div>"
      ],
      "text/plain": [
       "       CustomerID  Rating        Date  MovieID  Day\n",
       "6415       464812     3.0  2005-07-14        8   14\n",
       "15476     2274466     5.0  2005-07-09        8    9\n",
       "27044     1129526     3.0  2005-07-21       17   21\n",
       "29005     1871918     3.0  2005-07-22       17   22\n",
       "80553     1674099     4.0  2005-07-25       28   25"
      ]
     },
     "execution_count": 67,
     "metadata": {},
     "output_type": "execute_result"
    }
   ],
   "source": [
    "clean_test.head()"
   ]
  },
  {
   "cell_type": "code",
   "execution_count": null,
   "metadata": {},
   "outputs": [],
   "source": [
    "user_inferences = {}\n",
    "observation_window = 1\n",
    "threshold = 0.50 # a movie is considered an inference if it shows up in majority of the similarity lists for the auxiliary information"
   ]
  },
  {
   "cell_type": "code",
   "execution_count": null,
   "metadata": {},
   "outputs": [],
   "source": [
    "# generate list of unique user ids\n",
    "users = train['CustomerID'].unique()\n",
    "sample_users = users[0:5]"
   ]
  },
  {
   "cell_type": "code",
   "execution_count": null,
   "metadata": {},
   "outputs": [],
   "source": [
    "for user in users:\n",
    "    user_inferences[user] = []\n",
    "    auxiliary_info = df.loc[df['CustomerID'] == user, 'MovieID'].unique()\n",
    "    known_movie_count = 0\n",
    "    for curr_window in range(0, 31, observation_window):\n",
    "        window_deltas = []\n",
    "        # print(f'Current window: {curr_window}')\n",
    "        for known_movie in auxiliary_info:\n",
    "            movie_deltas = []\n",
    "            prev_window = curr_window - observation_window\n",
    "            # print(f'Prev window: {prev_window}')\n",
    "            # option 1: the movie has been seen by the rec system before in the daily rankings\n",
    "            if curr_window > 0 and known_movie in july_sim_list[prev_window].keys():\n",
    "                # print(f'Movie {known_movie} is in July {curr_window + 1}\\'s rec system')\n",
    "                known_movie_count += 1\n",
    "                # get movie rankings\n",
    "                prev_rankings = [movie_sim[0] for movie_sim in july_sim_list[prev_window][known_movie]]\n",
    "                curr_rankings = [movie_sim[0] for movie_sim in july_sim_list[curr_window][known_movie]]\n",
    "                # print(f'Movie #{known_movie} previous rankings: {prev_rankings}')\n",
    "                # print(f'Movie #{known_movie} current rankings: {curr_rankings}')\n",
    "\n",
    "                # get movies in both simlarity list for the previous window and current window\n",
    "                target_movies = set(curr_rankings).intersection(set(prev_rankings))\n",
    "                # print(f'Movie #{known_movie} target movies: {target_movies}')\n",
    "                \n",
    "                # add any movies that were added to rankings for the current window\n",
    "                movie_deltas = [movie for movie in curr_rankings if movie not in target_movies]\n",
    "                # print(f'Movie #{known_movie} new movies added to ranking: {movie_deltas}')\n",
    "\n",
    "                # get movies that increased their similarity from the previous window\n",
    "                movie_deltas += [movie for movie in target_movies if movie in curr_rankings and (curr_rankings.index(movie) - prev_rankings.index(movie)) < 0] # note: higher index means moving down the ranking\n",
    "                # print(f'Movie #{known_movie} had the following increases: {movie_deltas}')\n",
    "\n",
    "                window_deltas += movie_deltas\n",
    "\n",
    "            # option 2: we are looking the first day of the observation period\n",
    "            elif curr_window >= 0 and known_movie in july_sim_list[curr_window].keys():\n",
    "                # print(f'Movie {known_movie} was added on July {curr_window + 1}')\n",
    "                known_movie_count += 1\n",
    "                # add all of the target items because the rec sys is populating this list for the first time\n",
    "                movie_deltas += [movie_sim[0] for movie_sim in july_sim_list[curr_window][known_movie]]\n",
    "                # print(f'Movie {known_movie} generated these related movies: {movie_deltas}')\n",
    "\n",
    "                window_deltas += movie_deltas\n",
    "            else:\n",
    "                # print(f'Movie {known_movie} is not in July {curr_window + 1}\\'s rec system')\n",
    "                continue\n",
    "\n",
    "        \n",
    "        target_freq = Counter(window_deltas)\n",
    "        # print(f'For a total of {known_movie_count} movies, Here are the frequencies for July {observation_window}: {target_freq}')\n",
    "        updated_inferences = user_inferences[user]\n",
    "        \n",
    "        updated_inferences += ([movie for movie,count in target_freq.items() if count/known_movie_count >= threshold])\n",
    "        # print(f'The inference list now looks like: {updated_inferences}')\n",
    "\n",
    "        # removes any duplicates before saving\n",
    "        user_inferences[user] = list(set(updated_inferences))\n"
   ]
  },
  {
   "cell_type": "code",
   "execution_count": null,
   "metadata": {},
   "outputs": [],
   "source": [
    "user_inferences"
   ]
  },
  {
   "cell_type": "code",
   "execution_count": null,
   "metadata": {},
   "outputs": [],
   "source": []
  }
 ],
 "metadata": {
  "kernelspec": {
   "display_name": "Python 3",
   "language": "python",
   "name": "python3"
  },
  "language_info": {
   "codemirror_mode": {
    "name": "ipython",
    "version": 3
   },
   "file_extension": ".py",
   "mimetype": "text/x-python",
   "name": "python",
   "nbconvert_exporter": "python",
   "pygments_lexer": "ipython3",
   "version": "3.9.9"
  }
 },
 "nbformat": 4,
 "nbformat_minor": 2
}
